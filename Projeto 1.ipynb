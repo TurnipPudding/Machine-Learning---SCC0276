{
 "cells": [
  {
   "cell_type": "markdown",
   "id": "cda0aefb",
   "metadata": {},
   "source": [
    "# Projeto 1\n",
    "\n",
    "O roteiro é mais ou menos esse:\n",
    "\n",
    "    Sugestão de Roteiro Prático\n",
    "\n",
    "    Realize uma análise exploratória dos dados (EDA).​\n",
    "\n",
    "    Padronize os dados com StandardScaler.​\n",
    "\n",
    "    Aplique PCA para reduzir a dimensionalidade e visualize os dados em 2D ou 3D.​\n",
    "\n",
    "    Considere binarizar a variável quality para transformar o problema em uma classificação binária.​\n",
    "\n",
    "    Treine modelos como Random Forest, SVM e XGBoost.​\n",
    "\n",
    "    Avalie os modelos utilizando métricas apropriadas (acurácia, precisão, recall, F1-score).​\n",
    "\n",
    "    Ajuste os hiperparâmetros utilizando técnicas como GridSearchCV.​\n",
    "\n",
    "    Documente os resultados e conclusões."
   ]
  },
  {
   "cell_type": "code",
   "execution_count": 1,
   "id": "c16a4a0a",
   "metadata": {},
   "outputs": [
    {
     "name": "stdout",
     "output_type": "stream",
     "text": [
      "Hello world\n"
     ]
    }
   ],
   "source": [
    "print(\"Hello world\")"
   ]
  },
  {
   "cell_type": "code",
   "execution_count": 2,
   "id": "cba40a37",
   "metadata": {},
   "outputs": [
    {
     "name": "stdout",
     "output_type": "stream",
     "text": [
      "Hello world\n"
     ]
    }
   ],
   "source": [
    "print(\"Hello world\")"
   ]
  },
  {
   "cell_type": "code",
   "execution_count": null,
   "id": "9a3936d9",
   "metadata": {},
   "outputs": [],
   "source": []
  }
 ],
 "metadata": {
  "kernelspec": {
   "display_name": "base",
   "language": "python",
   "name": "python3"
  },
  "language_info": {
   "codemirror_mode": {
    "name": "ipython",
    "version": 3
   },
   "file_extension": ".py",
   "mimetype": "text/x-python",
   "name": "python",
   "nbconvert_exporter": "python",
   "pygments_lexer": "ipython3",
   "version": "3.11.5"
  }
 },
 "nbformat": 4,
 "nbformat_minor": 5
}
