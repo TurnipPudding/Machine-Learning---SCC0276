{
 "cells": [
  {
   "cell_type": "markdown",
   "id": "fc915fca",
   "metadata": {},
   "source": [
    "# Stroke Prediction|Multiple Models|Classification\n",
    "\n"
   ]
  },
  {
   "cell_type": "markdown",
   "id": "aa13d11c",
   "metadata": {},
   "source": [
    "# Stroke Prediction"
   ]
  },
  {
   "cell_type": "code",
   "execution_count": null,
   "id": "e3adec1c",
   "metadata": {},
   "outputs": [
    {
     "name": "stdout",
     "output_type": "stream",
     "text": [
      "Found existing installation: scikit-learn 1.2.2\n",
      "Uninstalling scikit-learn-1.2.2:\n",
      "  Successfully uninstalled scikit-learn-1.2.2\n",
      "Found existing installation: imblearn 0.0\n",
      "Uninstalling imblearn-0.0:\n",
      "  Successfully uninstalled imblearn-0.0\n",
      "Collecting scikit-learn==1.2.2\n",
      "  Obtaining dependency information for scikit-learn==1.2.2 from https://files.pythonhosted.org/packages/db/98/169b46a84b48f92df2b5e163fce75d471f4df933f8b3d925a61133210776/scikit_learn-1.2.2-cp311-cp311-win_amd64.whl.metadata\n",
      "  Using cached scikit_learn-1.2.2-cp311-cp311-win_amd64.whl.metadata (11 kB)\n",
      "Requirement already satisfied: numpy>=1.17.3 in c:\\users\\gabri\\anaconda3\\lib\\site-packages (from scikit-learn==1.2.2) (1.24.3)\n",
      "Requirement already satisfied: scipy>=1.3.2 in c:\\users\\gabri\\anaconda3\\lib\\site-packages (from scikit-learn==1.2.2) (1.11.1)\n",
      "Requirement already satisfied: joblib>=1.1.1 in c:\\users\\gabri\\anaconda3\\lib\\site-packages (from scikit-learn==1.2.2) (1.2.0)\n",
      "Requirement already satisfied: threadpoolctl>=2.0.0 in c:\\users\\gabri\\anaconda3\\lib\\site-packages (from scikit-learn==1.2.2) (2.2.0)\n",
      "Using cached scikit_learn-1.2.2-cp311-cp311-win_amd64.whl (8.3 MB)\n",
      "Installing collected packages: scikit-learn\n",
      "Successfully installed scikit-learn-1.2.2\n",
      "Requirement already satisfied: imbalanced-learn in c:\\users\\gabri\\anaconda3\\lib\\site-packages (0.10.1)\n",
      "Requirement already satisfied: numpy>=1.17.3 in c:\\users\\gabri\\anaconda3\\lib\\site-packages (from imbalanced-learn) (1.24.3)\n",
      "Requirement already satisfied: scipy>=1.3.2 in c:\\users\\gabri\\anaconda3\\lib\\site-packages (from imbalanced-learn) (1.11.1)\n",
      "Requirement already satisfied: scikit-learn>=1.0.2 in c:\\users\\gabri\\anaconda3\\lib\\site-packages (from imbalanced-learn) (1.2.2)\n",
      "Requirement already satisfied: joblib>=1.1.1 in c:\\users\\gabri\\anaconda3\\lib\\site-packages (from imbalanced-learn) (1.2.0)\n",
      "Requirement already satisfied: threadpoolctl>=2.0.0 in c:\\users\\gabri\\anaconda3\\lib\\site-packages (from imbalanced-learn) (2.2.0)\n"
     ]
    }
   ],
   "source": [
    "# !pip uninstall scikit-learn --yes\n",
    "# !pip uninstall imbalanced-learn --yes\n",
    "# !pip install scikit-learn==1.2.2\n",
    "# !pip install imbalanced-learn"
   ]
  },
  {
   "cell_type": "markdown",
   "id": "207d4bdb",
   "metadata": {},
   "source": [
    "## Importing Libraries"
   ]
  },
  {
   "cell_type": "code",
   "execution_count": null,
   "id": "591cab43",
   "metadata": {},
   "outputs": [],
   "source": [
    "#Importing all the neccessary libraries\n",
    "import numpy as np\n",
    "import pandas as pd \n",
    "import matplotlib.pyplot as plt\n",
    "import seaborn as sns\n",
    "from scipy import stats\n",
    "# from imblearn.over_sampling import SMOTE\n",
    "\n",
    "from sklearn.preprocessing import StandardScaler, OneHotEncoder\n",
    "from sklearn.compose import ColumnTransformer\n",
    "from sklearn.pipeline import Pipeline\n",
    "from sklearn.preprocessing import LabelEncoder\n",
    "from sklearn.model_selection import train_test_split\n",
    "from sklearn.model_selection import GridSearchCV\n",
    "from sklearn.linear_model import LogisticRegression, Perceptron\n",
    "from sklearn.svm import SVC, LinearSVC\n",
    "from sklearn.tree import DecisionTreeClassifier\n",
    "from sklearn.ensemble import RandomForestClassifier\n",
    "from sklearn.naive_bayes import GaussianNB,BernoulliNB\n",
    "from sklearn.neighbors import KNeighborsClassifier\n",
    "from sklearn.metrics import classification_report,ConfusionMatrixDisplay, auc, roc_curve, confusion_matrix"
   ]
  },
  {
   "cell_type": "markdown",
   "id": "680003b5",
   "metadata": {},
   "source": [
    "## Importing Data"
   ]
  },
  {
   "cell_type": "code",
   "execution_count": null,
   "id": "bb64e425",
   "metadata": {},
   "outputs": [
    {
     "data": {
      "text/html": [
       "<div>\n",
       "<style scoped>\n",
       "    .dataframe tbody tr th:only-of-type {\n",
       "        vertical-align: middle;\n",
       "    }\n",
       "\n",
       "    .dataframe tbody tr th {\n",
       "        vertical-align: top;\n",
       "    }\n",
       "\n",
       "    .dataframe thead th {\n",
       "        text-align: right;\n",
       "    }\n",
       "</style>\n",
       "<table border=\"1\" class=\"dataframe\">\n",
       "  <thead>\n",
       "    <tr style=\"text-align: right;\">\n",
       "      <th></th>\n",
       "      <th>Age</th>\n",
       "      <th>Sex</th>\n",
       "      <th>HighChol</th>\n",
       "      <th>CholCheck</th>\n",
       "      <th>BMI</th>\n",
       "      <th>Smoker</th>\n",
       "      <th>HeartDiseaseorAttack</th>\n",
       "      <th>PhysActivity</th>\n",
       "      <th>Fruits</th>\n",
       "      <th>Veggies</th>\n",
       "      <th>HvyAlcoholConsump</th>\n",
       "      <th>GenHlth</th>\n",
       "      <th>MentHlth</th>\n",
       "      <th>PhysHlth</th>\n",
       "      <th>DiffWalk</th>\n",
       "      <th>Stroke</th>\n",
       "      <th>HighBP</th>\n",
       "      <th>Diabetes</th>\n",
       "    </tr>\n",
       "  </thead>\n",
       "  <tbody>\n",
       "    <tr>\n",
       "      <th>0</th>\n",
       "      <td>4.0</td>\n",
       "      <td>1.0</td>\n",
       "      <td>0.0</td>\n",
       "      <td>1.0</td>\n",
       "      <td>26.0</td>\n",
       "      <td>0.0</td>\n",
       "      <td>0.0</td>\n",
       "      <td>1.0</td>\n",
       "      <td>0.0</td>\n",
       "      <td>1.0</td>\n",
       "      <td>0.0</td>\n",
       "      <td>3.0</td>\n",
       "      <td>5.0</td>\n",
       "      <td>30.0</td>\n",
       "      <td>0.0</td>\n",
       "      <td>0.0</td>\n",
       "      <td>1.0</td>\n",
       "      <td>0.0</td>\n",
       "    </tr>\n",
       "    <tr>\n",
       "      <th>1</th>\n",
       "      <td>12.0</td>\n",
       "      <td>1.0</td>\n",
       "      <td>1.0</td>\n",
       "      <td>1.0</td>\n",
       "      <td>26.0</td>\n",
       "      <td>1.0</td>\n",
       "      <td>0.0</td>\n",
       "      <td>0.0</td>\n",
       "      <td>1.0</td>\n",
       "      <td>0.0</td>\n",
       "      <td>0.0</td>\n",
       "      <td>3.0</td>\n",
       "      <td>0.0</td>\n",
       "      <td>0.0</td>\n",
       "      <td>0.0</td>\n",
       "      <td>1.0</td>\n",
       "      <td>1.0</td>\n",
       "      <td>0.0</td>\n",
       "    </tr>\n",
       "    <tr>\n",
       "      <th>2</th>\n",
       "      <td>13.0</td>\n",
       "      <td>1.0</td>\n",
       "      <td>0.0</td>\n",
       "      <td>1.0</td>\n",
       "      <td>26.0</td>\n",
       "      <td>0.0</td>\n",
       "      <td>0.0</td>\n",
       "      <td>1.0</td>\n",
       "      <td>1.0</td>\n",
       "      <td>1.0</td>\n",
       "      <td>0.0</td>\n",
       "      <td>1.0</td>\n",
       "      <td>0.0</td>\n",
       "      <td>10.0</td>\n",
       "      <td>0.0</td>\n",
       "      <td>0.0</td>\n",
       "      <td>0.0</td>\n",
       "      <td>0.0</td>\n",
       "    </tr>\n",
       "    <tr>\n",
       "      <th>3</th>\n",
       "      <td>11.0</td>\n",
       "      <td>1.0</td>\n",
       "      <td>1.0</td>\n",
       "      <td>1.0</td>\n",
       "      <td>28.0</td>\n",
       "      <td>1.0</td>\n",
       "      <td>0.0</td>\n",
       "      <td>1.0</td>\n",
       "      <td>1.0</td>\n",
       "      <td>1.0</td>\n",
       "      <td>0.0</td>\n",
       "      <td>3.0</td>\n",
       "      <td>0.0</td>\n",
       "      <td>3.0</td>\n",
       "      <td>0.0</td>\n",
       "      <td>0.0</td>\n",
       "      <td>1.0</td>\n",
       "      <td>0.0</td>\n",
       "    </tr>\n",
       "    <tr>\n",
       "      <th>4</th>\n",
       "      <td>8.0</td>\n",
       "      <td>0.0</td>\n",
       "      <td>0.0</td>\n",
       "      <td>1.0</td>\n",
       "      <td>29.0</td>\n",
       "      <td>1.0</td>\n",
       "      <td>0.0</td>\n",
       "      <td>1.0</td>\n",
       "      <td>1.0</td>\n",
       "      <td>1.0</td>\n",
       "      <td>0.0</td>\n",
       "      <td>2.0</td>\n",
       "      <td>0.0</td>\n",
       "      <td>0.0</td>\n",
       "      <td>0.0</td>\n",
       "      <td>0.0</td>\n",
       "      <td>0.0</td>\n",
       "      <td>0.0</td>\n",
       "    </tr>\n",
       "  </tbody>\n",
       "</table>\n",
       "</div>"
      ],
      "text/plain": [
       "    Age  Sex  HighChol  CholCheck   BMI  Smoker  HeartDiseaseorAttack  \\\n",
       "0   4.0  1.0       0.0        1.0  26.0     0.0                   0.0   \n",
       "1  12.0  1.0       1.0        1.0  26.0     1.0                   0.0   \n",
       "2  13.0  1.0       0.0        1.0  26.0     0.0                   0.0   \n",
       "3  11.0  1.0       1.0        1.0  28.0     1.0                   0.0   \n",
       "4   8.0  0.0       0.0        1.0  29.0     1.0                   0.0   \n",
       "\n",
       "   PhysActivity  Fruits  Veggies  HvyAlcoholConsump  GenHlth  MentHlth  \\\n",
       "0           1.0     0.0      1.0                0.0      3.0       5.0   \n",
       "1           0.0     1.0      0.0                0.0      3.0       0.0   \n",
       "2           1.0     1.0      1.0                0.0      1.0       0.0   \n",
       "3           1.0     1.0      1.0                0.0      3.0       0.0   \n",
       "4           1.0     1.0      1.0                0.0      2.0       0.0   \n",
       "\n",
       "   PhysHlth  DiffWalk  Stroke  HighBP  Diabetes  \n",
       "0      30.0       0.0     0.0     1.0       0.0  \n",
       "1       0.0       0.0     1.0     1.0       0.0  \n",
       "2      10.0       0.0     0.0     0.0       0.0  \n",
       "3       3.0       0.0     0.0     1.0       0.0  \n",
       "4       0.0       0.0     0.0     0.0       0.0  "
      ]
     },
     "execution_count": 3,
     "metadata": {},
     "output_type": "execute_result"
    }
   ],
   "source": [
    "#Loading the required data\n",
    "df = pd.read_csv('C:/Users/gabri/Downloads/Diabetes/diabetes_data.csv')\n",
    "pd.set_option('display.max_columns',30)\n",
    "df.head()"
   ]
  },
  {
   "cell_type": "code",
   "execution_count": null,
   "id": "d24ed5e6",
   "metadata": {},
   "outputs": [
    {
     "name": "stdout",
     "output_type": "stream",
     "text": [
      "<class 'pandas.core.frame.DataFrame'>\n",
      "RangeIndex: 70692 entries, 0 to 70691\n",
      "Data columns (total 18 columns):\n",
      " #   Column                Non-Null Count  Dtype  \n",
      "---  ------                --------------  -----  \n",
      " 0   Age                   70692 non-null  float64\n",
      " 1   Sex                   70692 non-null  float64\n",
      " 2   HighChol              70692 non-null  float64\n",
      " 3   CholCheck             70692 non-null  float64\n",
      " 4   BMI                   70692 non-null  float64\n",
      " 5   Smoker                70692 non-null  float64\n",
      " 6   HeartDiseaseorAttack  70692 non-null  float64\n",
      " 7   PhysActivity          70692 non-null  float64\n",
      " 8   Fruits                70692 non-null  float64\n",
      " 9   Veggies               70692 non-null  float64\n",
      " 10  HvyAlcoholConsump     70692 non-null  float64\n",
      " 11  GenHlth               70692 non-null  float64\n",
      " 12  MentHlth              70692 non-null  float64\n",
      " 13  PhysHlth              70692 non-null  float64\n",
      " 14  DiffWalk              70692 non-null  float64\n",
      " 15  Stroke                70692 non-null  float64\n",
      " 16  HighBP                70692 non-null  float64\n",
      " 17  Diabetes              70692 non-null  float64\n",
      "dtypes: float64(18)\n",
      "memory usage: 9.7 MB\n"
     ]
    }
   ],
   "source": [
    "df.info()"
   ]
  },
  {
   "cell_type": "markdown",
   "id": "f2ae01f5",
   "metadata": {},
   "source": [
    "## Data Analysis"
   ]
  },
  {
   "cell_type": "markdown",
   "id": "30191ca1",
   "metadata": {},
   "source": [
    "### Verificando valores nulos"
   ]
  },
  {
   "cell_type": "code",
   "execution_count": null,
   "id": "2e44a497",
   "metadata": {},
   "outputs": [
    {
     "data": {
      "text/plain": [
       "Age                     0\n",
       "Sex                     0\n",
       "HighChol                0\n",
       "CholCheck               0\n",
       "BMI                     0\n",
       "Smoker                  0\n",
       "HeartDiseaseorAttack    0\n",
       "PhysActivity            0\n",
       "Fruits                  0\n",
       "Veggies                 0\n",
       "HvyAlcoholConsump       0\n",
       "GenHlth                 0\n",
       "MentHlth                0\n",
       "PhysHlth                0\n",
       "DiffWalk                0\n",
       "Stroke                  0\n",
       "HighBP                  0\n",
       "Diabetes                0\n",
       "dtype: int64"
      ]
     },
     "execution_count": 5,
     "metadata": {},
     "output_type": "execute_result"
    }
   ],
   "source": [
    "#Assessing for missing values\n",
    "df.isnull().sum()"
   ]
  },
  {
   "cell_type": "markdown",
   "id": "f7fedaf5",
   "metadata": {},
   "source": [
    "### Verificando valores únicos das variáveis"
   ]
  },
  {
   "cell_type": "code",
   "execution_count": null,
   "id": "823a0892",
   "metadata": {},
   "outputs": [
    {
     "data": {
      "text/html": [
       "<div>\n",
       "<style scoped>\n",
       "    .dataframe tbody tr th:only-of-type {\n",
       "        vertical-align: middle;\n",
       "    }\n",
       "\n",
       "    .dataframe tbody tr th {\n",
       "        vertical-align: top;\n",
       "    }\n",
       "\n",
       "    .dataframe thead th {\n",
       "        text-align: right;\n",
       "    }\n",
       "</style>\n",
       "<table border=\"1\" class=\"dataframe\">\n",
       "  <thead>\n",
       "    <tr style=\"text-align: right;\">\n",
       "      <th></th>\n",
       "      <th>Unique_Values</th>\n",
       "    </tr>\n",
       "  </thead>\n",
       "  <tbody>\n",
       "    <tr>\n",
       "      <th>Age</th>\n",
       "      <td>13</td>\n",
       "    </tr>\n",
       "    <tr>\n",
       "      <th>Sex</th>\n",
       "      <td>2</td>\n",
       "    </tr>\n",
       "    <tr>\n",
       "      <th>HighChol</th>\n",
       "      <td>2</td>\n",
       "    </tr>\n",
       "    <tr>\n",
       "      <th>CholCheck</th>\n",
       "      <td>2</td>\n",
       "    </tr>\n",
       "    <tr>\n",
       "      <th>BMI</th>\n",
       "      <td>80</td>\n",
       "    </tr>\n",
       "    <tr>\n",
       "      <th>Smoker</th>\n",
       "      <td>2</td>\n",
       "    </tr>\n",
       "    <tr>\n",
       "      <th>HeartDiseaseorAttack</th>\n",
       "      <td>2</td>\n",
       "    </tr>\n",
       "    <tr>\n",
       "      <th>PhysActivity</th>\n",
       "      <td>2</td>\n",
       "    </tr>\n",
       "    <tr>\n",
       "      <th>Fruits</th>\n",
       "      <td>2</td>\n",
       "    </tr>\n",
       "    <tr>\n",
       "      <th>Veggies</th>\n",
       "      <td>2</td>\n",
       "    </tr>\n",
       "    <tr>\n",
       "      <th>HvyAlcoholConsump</th>\n",
       "      <td>2</td>\n",
       "    </tr>\n",
       "    <tr>\n",
       "      <th>GenHlth</th>\n",
       "      <td>5</td>\n",
       "    </tr>\n",
       "    <tr>\n",
       "      <th>MentHlth</th>\n",
       "      <td>31</td>\n",
       "    </tr>\n",
       "    <tr>\n",
       "      <th>PhysHlth</th>\n",
       "      <td>31</td>\n",
       "    </tr>\n",
       "    <tr>\n",
       "      <th>DiffWalk</th>\n",
       "      <td>2</td>\n",
       "    </tr>\n",
       "    <tr>\n",
       "      <th>Stroke</th>\n",
       "      <td>2</td>\n",
       "    </tr>\n",
       "    <tr>\n",
       "      <th>HighBP</th>\n",
       "      <td>2</td>\n",
       "    </tr>\n",
       "    <tr>\n",
       "      <th>Diabetes</th>\n",
       "      <td>2</td>\n",
       "    </tr>\n",
       "  </tbody>\n",
       "</table>\n",
       "</div>"
      ],
      "text/plain": [
       "                      Unique_Values\n",
       "Age                              13\n",
       "Sex                               2\n",
       "HighChol                          2\n",
       "CholCheck                         2\n",
       "BMI                              80\n",
       "Smoker                            2\n",
       "HeartDiseaseorAttack              2\n",
       "PhysActivity                      2\n",
       "Fruits                            2\n",
       "Veggies                           2\n",
       "HvyAlcoholConsump                 2\n",
       "GenHlth                           5\n",
       "MentHlth                         31\n",
       "PhysHlth                         31\n",
       "DiffWalk                          2\n",
       "Stroke                            2\n",
       "HighBP                            2\n",
       "Diabetes                          2"
      ]
     },
     "execution_count": 6,
     "metadata": {},
     "output_type": "execute_result"
    }
   ],
   "source": [
    "#Evaluating number of unique values in each column\n",
    "unique_vals=[]\n",
    "\n",
    "for col in df.columns:\n",
    "    unival=df[col].nunique()\n",
    "    unique_vals.append(unival)\n",
    "\n",
    "#Presenting the findings using a dataframe\n",
    "pd.DataFrame(unique_vals,columns=['Unique_Values'],index=df.columns)"
   ]
  },
  {
   "cell_type": "markdown",
   "id": "9a645d8e",
   "metadata": {},
   "source": [
    "É evidente dos dados acima que a maioria dos atributos são de natureza categórica, e apenas alguns deles possuem valores contínuos."
   ]
  },
  {
   "cell_type": "markdown",
   "id": "6a35d9fa",
   "metadata": {},
   "source": [
    "### Separando as colunas numéricas das categóricas"
   ]
  },
  {
   "cell_type": "code",
   "execution_count": null,
   "id": "052aa75e",
   "metadata": {},
   "outputs": [
    {
     "data": {
      "text/plain": [
       "Index(['Age', 'Sex', 'HighChol', 'CholCheck', 'BMI', 'Smoker',\n",
       "       'HeartDiseaseorAttack', 'PhysActivity', 'Fruits', 'Veggies',\n",
       "       'HvyAlcoholConsump', 'GenHlth', 'MentHlth', 'PhysHlth', 'DiffWalk',\n",
       "       'Stroke', 'HighBP', 'Diabetes'],\n",
       "      dtype='object')"
      ]
     },
     "execution_count": 7,
     "metadata": {},
     "output_type": "execute_result"
    }
   ],
   "source": [
    "df.columns"
   ]
  },
  {
   "cell_type": "code",
   "execution_count": null,
   "id": "4581b689",
   "metadata": {},
   "outputs": [],
   "source": [
    "# cols=['Age', 'Sex', 'HighChol', 'CholCheck', 'Smoker',\n",
    "#        'HeartDiseaseorAttack', 'PhysActivity', 'Fruits', 'Veggies',\n",
    "#        'HvyAlcoholConsump', 'GenHlth', 'DiffWalk',\n",
    "#        'Diabetes', 'HighBP', 'Stroke']\n",
    "\n",
    "# Identificando variáveis categóricas e numéricas com base nos valores únicos\n",
    "categorical_cols = ['Sex', 'HighChol', 'CholCheck', 'Smoker', 'HeartDiseaseorAttack',\n",
    "                   'PhysActivity', 'Fruits', 'Veggies', 'HvyAlcoholConsump',\n",
    "                   'GenHlth', 'DiffWalk', 'Stroke', 'HighBP', 'Diabetes']\n",
    "numerical_cols = ['Age', 'BMI', 'MentHlth', 'PhysHlth']"
   ]
  },
  {
   "cell_type": "markdown",
   "id": "37ea36ba",
   "metadata": {},
   "source": [
    "### Análise do desbalanceamento da variável alvo (Stroke)"
   ]
  },
  {
   "cell_type": "code",
   "execution_count": null,
   "id": "ad7bdd0e",
   "metadata": {},
   "outputs": [
    {
     "name": "stdout",
     "output_type": "stream",
     "text": [
      "Contagem da variável alvo (Stroke):\n",
      "Stroke\n",
      "0.0    66297\n",
      "1.0     4395\n",
      "Name: count, dtype: int64\n",
      "\n",
      "Proporção de cada classe (%):\n",
      "Stroke\n",
      "0.0    93.782889\n",
      "1.0     6.217111\n",
      "Name: proportion, dtype: float64\n",
      "\n",
      "Razão de desbalanceamento: 15.08\n",
      "Gráfico da distribuição salvo como 'stroke_distribution.png'\n"
     ]
    }
   ],
   "source": [
    "# Contagem de valores da variável alvo\n",
    "target_counts = df['Stroke'].value_counts()\n",
    "print(\"Contagem da variável alvo (Stroke):\")\n",
    "print(target_counts)\n",
    "\n",
    "# Proporção de cada classe\n",
    "target_props = df['Stroke'].value_counts(normalize=True) * 100\n",
    "print(\"\\nProporção de cada classe (%):\")\n",
    "print(target_props)\n",
    "\n",
    "# Razão de desbalanceamento\n",
    "imbalance_ratio = target_counts.max() / target_counts.min()\n",
    "print(f\"\\nRazão de desbalanceamento: {imbalance_ratio:.2f}\")\n",
    "\n",
    "# Visualização do desbalanceamento\n",
    "plt.figure(figsize=(10, 6))\n",
    "sns.countplot(x='Stroke', data=df)\n",
    "plt.title('Distribuição da Variável Alvo (Stroke)')\n",
    "plt.xlabel('Stroke (0 = Não, 1 = Sim)')\n",
    "plt.ylabel('Contagem')\n",
    "plt.savefig('C:/Users/gabri/Downloads/Diabetes/stroke_distribution.png')\n",
    "plt.show()\n",
    "plt.close()\n",
    "\n",
    "print(\"Gráfico da distribuição salvo como 'stroke_distribution.png'\")"
   ]
  },
  {
   "cell_type": "markdown",
   "id": "0a718ab9",
   "metadata": {},
   "source": [
    "### Análise Estatística das variáveis numéricas"
   ]
  },
  {
   "cell_type": "code",
   "execution_count": null,
   "id": "dcd75d64",
   "metadata": {},
   "outputs": [
    {
     "name": "stdout",
     "output_type": "stream",
     "text": [
      "            count       mean        std   min   25%   50%   75%   max  mode  \\\n",
      "Age       70692.0   8.584055   2.852153   1.0   7.0   9.0  11.0  13.0  10.0   \n",
      "BMI       70692.0  29.856985   7.113954  12.0  25.0  29.0  33.0  98.0  27.0   \n",
      "MentHlth  70692.0   3.752037   8.155627   0.0   0.0   0.0   2.0  30.0   0.0   \n",
      "PhysHlth  70692.0   5.810417  10.062261   0.0   0.0   0.0   6.0  30.0   0.0   \n",
      "\n",
      "          skewness  kurtosis  iqr          cv  \n",
      "Age      -0.545923 -0.213232  4.0   33.226176  \n",
      "BMI       1.719180  7.164081  8.0   23.826765  \n",
      "MentHlth  2.388110  4.491547  2.0  217.365302  \n",
      "PhysHlth  1.657304  1.179731  6.0  173.176219  \n"
     ]
    }
   ],
   "source": [
    "# Estatísticas descritivas para variáveis numéricas\n",
    "numeric_stats = df[numerical_cols].describe().T\n",
    "\n",
    "# Adicionando mais métricas estatísticas\n",
    "numeric_stats['mode'] = df[numerical_cols].mode().iloc[0]\n",
    "numeric_stats['skewness'] = df[numerical_cols].skew()\n",
    "numeric_stats['kurtosis'] = df[numerical_cols].kurtosis()\n",
    "numeric_stats['iqr'] = numeric_stats['75%'] - numeric_stats['25%']\n",
    "numeric_stats['cv'] = numeric_stats['std'] / numeric_stats['mean'] * 100  # Coeficiente de variação\n",
    "\n",
    "print(numeric_stats)"
   ]
  },
  {
   "cell_type": "code",
   "execution_count": null,
   "id": "e2ac1e7e",
   "metadata": {},
   "outputs": [
    {
     "name": "stdout",
     "output_type": "stream",
     "text": [
      "Gráficos das distribuições numéricas salvos como 'numeric_distributions.png'\n"
     ]
    }
   ],
   "source": [
    "# Visualizando a distribuição das variáveis numéricas\n",
    "plt.figure(figsize=(15, 10))\n",
    "for i, col in enumerate(numerical_cols):\n",
    "    plt.subplot(2, 2, i+1)\n",
    "    sns.histplot(df[col], kde=True)\n",
    "    plt.title(f'Distribuição de {col}')\n",
    "    plt.axvline(df[col].mean(), color='red', linestyle='--', label=f'Média: {df[col].mean():.2f}')\n",
    "    plt.axvline(df[col].median(), color='green', linestyle='--', label=f'Mediana: {df[col].median():.2f}')\n",
    "    plt.legend()\n",
    "plt.tight_layout()\n",
    "# plt.savefig('numeric_distributions.png')\n",
    "# print(\"Gráficos das distribuições numéricas salvos como 'numeric_distributions.png'\")\n",
    "plt.show()\n",
    "plt.close()\n",
    "\n"
   ]
  },
  {
   "cell_type": "code",
   "execution_count": null,
   "id": "813670d3",
   "metadata": {},
   "outputs": [
    {
     "name": "stdout",
     "output_type": "stream",
     "text": [
      "Boxplots das variáveis numéricas salvos como 'numeric_boxplots.png'\n"
     ]
    },
    {
     "data": {
      "image/png": "[encoded data removed]",
      "text/plain": [
       "<Figure size 1500x1000 with 4 Axes>"
      ]
     },
     "metadata": {},
     "output_type": "display_data"
    }
   ],
   "source": [
    "# Boxplots para identificar outliers\n",
    "plt.figure(figsize=(15, 10))\n",
    "for i, col in enumerate(numerical_cols):\n",
    "    plt.subplot(2, 2, i+1)\n",
    "    sns.boxplot(y=df[col])\n",
    "    plt.title(f'Boxplot de {col}')\n",
    "plt.tight_layout()\n",
    "# plt.savefig('C:/Users/gabri/Downloads/Diabetes/numeric_boxplots.png')\n",
    "# print(\"Boxplots das variáveis numéricas salvos como 'numeric_boxplots.png'\")\n",
    "plt.show()\n",
    "plt.close()\n",
    "\n"
   ]
  },
  {
   "cell_type": "markdown",
   "id": "db80e071",
   "metadata": {},
   "source": [
    "### Análise Estatística das variáveis categóricas"
   ]
  },
  {
   "cell_type": "code",
   "execution_count": null,
   "id": "b7f9daf1",
   "metadata": {},
   "outputs": [
    {
     "name": "stdout",
     "output_type": "stream",
     "text": [
      "\n",
      "Análise da variável: Sex\n",
      "----------------------------------------\n",
      "Valores únicos: 2\n",
      "Moda (valor mais frequente): 0.0\n",
      "\n",
      "Contagem de cada categoria:\n",
      "Sex\n",
      "0.0    38386\n",
      "1.0    32306\n",
      "Name: count, dtype: int64\n",
      "\n",
      "Proporção de cada categoria (%):\n",
      "Sex\n",
      "0.0    54.300345\n",
      "1.0    45.699655\n",
      "Name: proportion, dtype: float64\n",
      "\n",
      "Razão de desbalanceamento: 1.19\n",
      "Gráfico salvo como 'Sex_distribution.png'\n",
      "\n",
      "Análise da variável: HighChol\n",
      "----------------------------------------\n",
      "Valores únicos: 2\n",
      "Moda (valor mais frequente): 1.0\n",
      "\n",
      "Contagem de cada categoria:\n",
      "HighChol\n",
      "0.0    33529\n",
      "1.0    37163\n",
      "Name: count, dtype: int64\n",
      "\n",
      "Proporção de cada categoria (%):\n",
      "HighChol\n",
      "0.0    47.429695\n",
      "1.0    52.570305\n",
      "Name: proportion, dtype: float64\n",
      "\n",
      "Razão de desbalanceamento: 1.11\n",
      "Gráfico salvo como 'HighChol_distribution.png'\n",
      "\n",
      "Análise da variável: CholCheck\n",
      "----------------------------------------\n",
      "Valores únicos: 2\n",
      "Moda (valor mais frequente): 1.0\n",
      "\n",
      "Contagem de cada categoria:\n",
      "CholCheck\n",
      "0.0     1749\n",
      "1.0    68943\n",
      "Name: count, dtype: int64\n",
      "\n",
      "Proporção de cada categoria (%):\n",
      "CholCheck\n",
      "0.0     2.474113\n",
      "1.0    97.525887\n",
      "Name: proportion, dtype: float64\n",
      "\n",
      "Razão de desbalanceamento: 39.42\n",
      "Gráfico salvo como 'CholCheck_distribution.png'\n",
      "\n",
      "Análise da variável: Smoker\n",
      "----------------------------------------\n",
      "Valores únicos: 2\n",
      "Moda (valor mais frequente): 0.0\n",
      "\n",
      "Contagem de cada categoria:\n",
      "Smoker\n",
      "0.0    37094\n",
      "1.0    33598\n",
      "Name: count, dtype: int64\n",
      "\n",
      "Proporção de cada categoria (%):\n",
      "Smoker\n",
      "0.0    52.472698\n",
      "1.0    47.527302\n",
      "Name: proportion, dtype: float64\n",
      "\n",
      "Razão de desbalanceamento: 1.10\n",
      "Gráfico salvo como 'Smoker_distribution.png'\n",
      "\n",
      "Análise da variável: HeartDiseaseorAttack\n",
      "----------------------------------------\n",
      "Valores únicos: 2\n",
      "Moda (valor mais frequente): 0.0\n",
      "\n",
      "Contagem de cada categoria:\n",
      "HeartDiseaseorAttack\n",
      "0.0    60243\n",
      "1.0    10449\n",
      "Name: count, dtype: int64\n",
      "\n",
      "Proporção de cada categoria (%):\n",
      "HeartDiseaseorAttack\n",
      "0.0    85.218978\n",
      "1.0    14.781022\n",
      "Name: proportion, dtype: float64\n",
      "\n",
      "Razão de desbalanceamento: 5.77\n",
      "Gráfico salvo como 'HeartDiseaseorAttack_distribution.png'\n",
      "\n",
      "Análise da variável: PhysActivity\n",
      "----------------------------------------\n",
      "Valores únicos: 2\n",
      "Moda (valor mais frequente): 1.0\n",
      "\n",
      "Contagem de cada categoria:\n",
      "PhysActivity\n",
      "0.0    20993\n",
      "1.0    49699\n",
      "Name: count, dtype: int64\n",
      "\n",
      "Proporção de cada categoria (%):\n",
      "PhysActivity\n",
      "0.0    29.69643\n",
      "1.0    70.30357\n",
      "Name: proportion, dtype: float64\n",
      "\n",
      "Razão de desbalanceamento: 2.37\n",
      "Gráfico salvo como 'PhysActivity_distribution.png'\n",
      "\n",
      "Análise da variável: Fruits\n",
      "----------------------------------------\n",
      "Valores únicos: 2\n",
      "Moda (valor mais frequente): 1.0\n",
      "\n",
      "Contagem de cada categoria:\n",
      "Fruits\n",
      "0.0    27443\n",
      "1.0    43249\n",
      "Name: count, dtype: int64\n",
      "\n",
      "Proporção de cada categoria (%):\n",
      "Fruits\n",
      "0.0    38.820517\n",
      "1.0    61.179483\n",
      "Name: proportion, dtype: float64\n",
      "\n",
      "Razão de desbalanceamento: 1.58\n",
      "Gráfico salvo como 'Fruits_distribution.png'\n",
      "\n",
      "Análise da variável: Veggies\n",
      "----------------------------------------\n",
      "Valores únicos: 2\n",
      "Moda (valor mais frequente): 1.0\n",
      "\n",
      "Contagem de cada categoria:\n",
      "Veggies\n",
      "0.0    14932\n",
      "1.0    55760\n",
      "Name: count, dtype: int64\n",
      "\n",
      "Proporção de cada categoria (%):\n",
      "Veggies\n",
      "0.0    21.122616\n",
      "1.0    78.877384\n",
      "Name: proportion, dtype: float64\n",
      "\n",
      "Razão de desbalanceamento: 3.73\n",
      "Gráfico salvo como 'Veggies_distribution.png'\n",
      "\n",
      "Análise da variável: HvyAlcoholConsump\n",
      "----------------------------------------\n",
      "Valores únicos: 2\n",
      "Moda (valor mais frequente): 0.0\n",
      "\n",
      "Contagem de cada categoria:\n",
      "HvyAlcoholConsump\n",
      "0.0    67672\n",
      "1.0     3020\n",
      "Name: count, dtype: int64\n",
      "\n",
      "Proporção de cada categoria (%):\n",
      "HvyAlcoholConsump\n",
      "0.0    95.727947\n",
      "1.0     4.272053\n",
      "Name: proportion, dtype: float64\n",
      "\n",
      "Razão de desbalanceamento: 22.41\n",
      "Gráfico salvo como 'HvyAlcoholConsump_distribution.png'\n",
      "\n",
      "Análise da variável: GenHlth\n",
      "----------------------------------------\n",
      "Valores únicos: 5\n",
      "Moda (valor mais frequente): 3.0\n",
      "\n",
      "Contagem de cada categoria:\n",
      "GenHlth\n",
      "1.0     8282\n",
      "2.0    19872\n",
      "3.0    23427\n",
      "4.0    13303\n",
      "5.0     5808\n",
      "Name: count, dtype: int64\n",
      "\n",
      "Proporção de cada categoria (%):\n",
      "GenHlth\n",
      "1.0    11.715611\n",
      "2.0    28.110677\n",
      "3.0    33.139535\n",
      "4.0    18.818254\n",
      "5.0     8.215923\n",
      "Name: proportion, dtype: float64\n",
      "\n",
      "Razão de desbalanceamento: 4.03\n",
      "Gráfico salvo como 'GenHlth_distribution.png'\n",
      "\n",
      "Análise da variável: DiffWalk\n",
      "----------------------------------------\n",
      "Valores únicos: 2\n",
      "Moda (valor mais frequente): 0.0\n",
      "\n",
      "Contagem de cada categoria:\n",
      "DiffWalk\n",
      "0.0    52826\n",
      "1.0    17866\n",
      "Name: count, dtype: int64\n",
      "\n",
      "Proporção de cada categoria (%):\n",
      "DiffWalk\n",
      "0.0    74.726985\n",
      "1.0    25.273015\n",
      "Name: proportion, dtype: float64\n",
      "\n",
      "Razão de desbalanceamento: 2.96\n",
      "Gráfico salvo como 'DiffWalk_distribution.png'\n",
      "\n",
      "Análise da variável: Stroke\n",
      "----------------------------------------\n",
      "Valores únicos: 2\n",
      "Moda (valor mais frequente): 0.0\n",
      "\n",
      "Contagem de cada categoria:\n",
      "Stroke\n",
      "0.0    66297\n",
      "1.0     4395\n",
      "Name: count, dtype: int64\n",
      "\n",
      "Proporção de cada categoria (%):\n",
      "Stroke\n",
      "0.0    93.782889\n",
      "1.0     6.217111\n",
      "Name: proportion, dtype: float64\n",
      "\n",
      "Razão de desbalanceamento: 15.08\n",
      "Gráfico salvo como 'Stroke_distribution.png'\n",
      "\n",
      "Análise da variável: HighBP\n",
      "----------------------------------------\n",
      "Valores únicos: 2\n",
      "Moda (valor mais frequente): 1.0\n",
      "\n",
      "Contagem de cada categoria:\n",
      "HighBP\n",
      "0.0    30860\n",
      "1.0    39832\n",
      "Name: count, dtype: int64\n",
      "\n",
      "Proporção de cada categoria (%):\n",
      "HighBP\n",
      "0.0    43.654162\n",
      "1.0    56.345838\n",
      "Name: proportion, dtype: float64\n",
      "\n",
      "Razão de desbalanceamento: 1.29\n",
      "Gráfico salvo como 'HighBP_distribution.png'\n",
      "\n",
      "Análise da variável: Diabetes\n",
      "----------------------------------------\n",
      "Valores únicos: 2\n",
      "Moda (valor mais frequente): 0.0\n",
      "\n",
      "Contagem de cada categoria:\n",
      "Diabetes\n",
      "0.0    35346\n",
      "1.0    35346\n",
      "Name: count, dtype: int64\n",
      "\n",
      "Proporção de cada categoria (%):\n",
      "Diabetes\n",
      "0.0    50.0\n",
      "1.0    50.0\n",
      "Name: proportion, dtype: float64\n",
      "\n",
      "Razão de desbalanceamento: 1.00\n",
      "Gráfico salvo como 'Diabetes_distribution.png'\n"
     ]
    }
   ],
   "source": [
    "# Função para analisar variáveis categóricas\n",
    "def analyze_categorical(df, col_name):\n",
    "    counts = df[col_name].value_counts().sort_index()\n",
    "    proportions = df[col_name].value_counts(normalize=True).sort_index() * 100\n",
    "    mode_value = df[col_name].mode()[0]\n",
    "    \n",
    "    print(f\"\\nAnálise da variável: {col_name}\")\n",
    "    print(\"-\" * 40)\n",
    "    print(\"Valores únicos:\", df[col_name].nunique())\n",
    "    print(\"Moda (valor mais frequente):\", mode_value)\n",
    "    print(\"\\nContagem de cada categoria:\")\n",
    "    print(counts)\n",
    "    print(\"\\nProporção de cada categoria (%):\")\n",
    "    print(proportions)\n",
    "    \n",
    "    # Verificando desbalanceamento\n",
    "    if len(counts) > 1:\n",
    "        imbalance = counts.max() / counts.min()\n",
    "        print(f\"\\nRazão de desbalanceamento: {imbalance:.2f}\")\n",
    "    \n",
    "    # Visualização\n",
    "    plt.figure(figsize=(10, 6))\n",
    "    sns.countplot(x=col_name, data=df)\n",
    "    plt.title(f'Distribuição da variável {col_name}')\n",
    "    plt.ylabel('Contagem')\n",
    "    # plt.savefig(f'C:/Users/gabri/Downloads/Diabetes/{col_name}_distribution.png')\n",
    "    # print(f\"Gráfico salvo como '{col_name}_distribution.png'\")\n",
    "    plt.show()\n",
    "    plt.close()\n",
    "    \n",
    "    \n",
    "    \n",
    "    return counts, proportions\n",
    "\n",
    "# Analisando cada variável categórica\n",
    "for col in categorical_cols:\n",
    "    analyze_categorical(df, col)"
   ]
  },
  {
   "cell_type": "code",
   "execution_count": null,
   "id": "4a0a7c01",
   "metadata": {},
   "outputs": [],
   "source": [
    "# #Presenting the countplots for categorical features\n",
    "# for i in cols:\n",
    "#   fig, ax = plt.subplots(1,1, figsize=(15, 6))\n",
    "#   sns.countplot(y = df[i],data=df, order=df[i].value_counts().index, palette='Blues_r')\n",
    "#   plt.ylabel(i)\n",
    "#   plt.yticks(fontsize=13)\n",
    "#   print(\"************************************************************************************************\")\n",
    "#   plt.box(False)\n",
    "#   plt.show()"
   ]
  },
  {
   "cell_type": "markdown",
   "id": "11f6924a",
   "metadata": {},
   "source": [
    "### Relação das Variáveis com a Variável Alvo (Stroke)"
   ]
  },
  {
   "cell_type": "code",
   "execution_count": null,
   "id": "c7e11906",
   "metadata": {},
   "outputs": [
    {
     "name": "stdout",
     "output_type": "stream",
     "text": [
      "\n",
      "Tabela de contingência entre Sex e Stroke:\n",
      "Stroke    0.0   1.0\n",
      "Sex                \n",
      "0.0     36032  2354\n",
      "1.0     30265  2041\n",
      "Chi-square: 1.00, p-value: 0.3170\n",
      "A variável Sex NÃO tem relação estatisticamente significativa com Stroke (p>=0.05)\n",
      "\n",
      "Tabela de contingência entre HighChol e Stroke:\n",
      "Stroke      0.0   1.0\n",
      "HighChol             \n",
      "0.0       32295  1234\n",
      "1.0       34002  3161\n",
      "Chi-square: 703.07, p-value: 0.0000\n",
      "A variável HighChol tem relação estatisticamente significativa com Stroke (p<0.05)\n",
      "\n",
      "Tabela de contingência entre CholCheck e Stroke:\n",
      "Stroke       0.0   1.0\n",
      "CholCheck             \n",
      "0.0         1700    49\n",
      "1.0        64597  4346\n",
      "Chi-square: 35.28, p-value: 0.0000\n",
      "A variável CholCheck tem relação estatisticamente significativa com Stroke (p<0.05)\n",
      "\n",
      "Tabela de contingência entre Smoker e Stroke:\n",
      "Stroke    0.0   1.0\n",
      "Smoker             \n",
      "0.0     35339  1755\n",
      "1.0     30958  2640\n",
      "Chi-square: 295.01, p-value: 0.0000\n",
      "A variável Smoker tem relação estatisticamente significativa com Stroke (p<0.05)\n",
      "\n",
      "Tabela de contingência entre HeartDiseaseorAttack e Stroke:\n",
      "Stroke                  0.0   1.0\n",
      "HeartDiseaseorAttack             \n",
      "0.0                   57851  2392\n",
      "1.0                    8446  2003\n",
      "Chi-square: 3525.26, p-value: 0.0000\n",
      "A variável HeartDiseaseorAttack tem relação estatisticamente significativa com Stroke (p<0.05)\n",
      "\n",
      "Tabela de contingência entre PhysActivity e Stroke:\n",
      "Stroke          0.0   1.0\n",
      "PhysActivity             \n",
      "0.0           19064  1929\n",
      "1.0           47233  2466\n",
      "Chi-square: 451.53, p-value: 0.0000\n",
      "A variável PhysActivity tem relação estatisticamente significativa com Stroke (p<0.05)\n",
      "\n",
      "Tabela de contingência entre Fruits e Stroke:\n",
      "Stroke    0.0   1.0\n",
      "Fruits             \n",
      "0.0     25662  1781\n",
      "1.0     40635  2614\n",
      "Chi-square: 5.65, p-value: 0.0175\n",
      "A variável Fruits tem relação estatisticamente significativa com Stroke (p<0.05)\n",
      "\n",
      "Tabela de contingência entre Veggies e Stroke:\n",
      "Stroke     0.0   1.0\n",
      "Veggies             \n",
      "0.0      13672  1260\n",
      "1.0      52625  3135\n",
      "Chi-square: 159.70, p-value: 0.0000\n",
      "A variável Veggies tem relação estatisticamente significativa com Stroke (p<0.05)\n",
      "\n",
      "Tabela de contingência entre HvyAlcoholConsump e Stroke:\n",
      "Stroke               0.0   1.0\n",
      "HvyAlcoholConsump             \n",
      "0.0                63384  4288\n",
      "1.0                 2913   107\n",
      "Chi-square: 38.21, p-value: 0.0000\n",
      "A variável HvyAlcoholConsump tem relação estatisticamente significativa com Stroke (p<0.05)\n",
      "\n",
      "Tabela de contingência entre GenHlth e Stroke:\n",
      "Stroke     0.0   1.0\n",
      "GenHlth             \n",
      "1.0       8160   122\n",
      "2.0      19353   519\n",
      "3.0      22200  1227\n",
      "4.0      11897  1406\n",
      "5.0       4687  1121\n",
      "Chi-square: 2938.63, p-value: 0.0000\n",
      "A variável GenHlth tem relação estatisticamente significativa com Stroke (p<0.05)\n",
      "\n",
      "Tabela de contingência entre DiffWalk e Stroke:\n",
      "Stroke      0.0   1.0\n",
      "DiffWalk             \n",
      "0.0       50968  1858\n",
      "1.0       15329  2537\n",
      "Chi-square: 2611.38, p-value: 0.0000\n",
      "A variável DiffWalk tem relação estatisticamente significativa com Stroke (p<0.05)\n",
      "\n",
      "Tabela de contingência entre HighBP e Stroke:\n",
      "Stroke    0.0   1.0\n",
      "HighBP             \n",
      "0.0     30034   826\n",
      "1.0     36263  3569\n",
      "Chi-square: 1176.40, p-value: 0.0000\n",
      "A variável HighBP tem relação estatisticamente significativa com Stroke (p<0.05)\n",
      "\n",
      "Tabela de contingência entre Diabetes e Stroke:\n",
      "Stroke      0.0   1.0\n",
      "Diabetes             \n",
      "0.0       34219  1127\n",
      "1.0       32078  3268\n",
      "Chi-square: 1111.08, p-value: 0.0000\n",
      "A variável Diabetes tem relação estatisticamente significativa com Stroke (p<0.05)\n",
      "\n",
      "Estatísticas de Age por grupo de Stroke:\n",
      "          count      mean       std  min  25%   50%   75%   max\n",
      "Stroke                                                         \n",
      "0.0     66297.0  8.493084  2.868006  1.0  7.0   9.0  11.0  13.0\n",
      "1.0      4395.0  9.956314  2.181751  1.0  9.0  10.0  12.0  13.0\n",
      "T-statistic: 42.11, p-value: 0.0000\n",
      "A diferença nas médias de Age entre os grupos é estatisticamente significativa (p<0.05)\n",
      "\n",
      "Estatísticas de BMI por grupo de Stroke:\n",
      "          count       mean       std   min   25%   50%   75%   max\n",
      "Stroke                                                            \n",
      "0.0     66297.0  29.814984  7.096584  12.0  25.0  29.0  33.0  98.0\n",
      "1.0      4395.0  30.490557  7.342743  14.0  26.0  29.0  34.0  98.0\n",
      "T-statistic: 5.92, p-value: 0.0000\n",
      "A diferença nas médias de BMI entre os grupos é estatisticamente significativa (p<0.05)\n",
      "\n",
      "Estatísticas de MentHlth por grupo de Stroke:\n",
      "          count      mean        std  min  25%  50%   75%   max\n",
      "Stroke                                                         \n",
      "0.0     66297.0  3.568714   7.934077  0.0  0.0  0.0   2.0  30.0\n",
      "1.0      4395.0  6.517406  10.590394  0.0  0.0  0.0  10.0  30.0\n",
      "T-statistic: 18.12, p-value: 0.0000\n",
      "A diferença nas médias de MentHlth entre os grupos é estatisticamente significativa (p<0.05)\n",
      "\n",
      "Estatísticas de PhysHlth por grupo de Stroke:\n",
      "          count       mean        std  min  25%  50%   75%   max\n",
      "Stroke                                                          \n",
      "0.0     66297.0   5.384271   9.710885  0.0  0.0  0.0   5.0  30.0\n",
      "1.0      4395.0  12.238680  12.729000  0.0  0.0  6.0  30.0  30.0\n",
      "T-statistic: 35.03, p-value: 0.0000\n",
      "A diferença nas médias de PhysHlth entre os grupos é estatisticamente significativa (p<0.05)\n"
     ]
    }
   ],
   "source": [
    "# Para variáveis categóricas: tabelas de contingência\n",
    "for col in categorical_cols:\n",
    "    if col != 'Stroke':\n",
    "        print(f\"\\nTabela de contingência entre {col} e Stroke:\")\n",
    "        contingency_table = pd.crosstab(df[col], df['Stroke'])\n",
    "        print(contingency_table)\n",
    "        \n",
    "        # Chi-square test\n",
    "        chi2, p, _, _ = stats.chi2_contingency(contingency_table)\n",
    "        print(f\"Chi-square: {chi2:.2f}, p-value: {p:.4f}\")\n",
    "        if p < 0.05:\n",
    "            print(f\"A variável {col} tem relação estatisticamente significativa com Stroke (p<0.05)\")\n",
    "        else:\n",
    "            print(f\"A variável {col} NÃO tem relação estatisticamente significativa com Stroke (p>=0.05)\")\n",
    "        \n",
    "        # Visualização\n",
    "        plt.figure(figsize=(10, 6))\n",
    "        sns.countplot(x=col, hue='Stroke', data=df)\n",
    "        plt.title(f'Relação entre {col} e Stroke')\n",
    "        # plt.savefig(f'C:/Users/gabri/Downloads/Diabetes/{col}_vs_stroke.png')\n",
    "        plt.show()\n",
    "        plt.close()\n",
    "\n",
    "# Para variáveis numéricas: análise por grupo\n",
    "for col in numerical_cols:\n",
    "    print(f\"\\nEstatísticas de {col} por grupo de Stroke:\")\n",
    "    print(df.groupby('Stroke')[col].describe())\n",
    "    \n",
    "    # T-test para comparar médias\n",
    "    stroke_yes = df[df['Stroke'] == 1][col]\n",
    "    stroke_no = df[df['Stroke'] == 0][col]\n",
    "    t_stat, p_val = stats.ttest_ind(stroke_yes, stroke_no, equal_var=False)\n",
    "    print(f\"T-statistic: {t_stat:.2f}, p-value: {p_val:.4f}\")\n",
    "    if p_val < 0.05:\n",
    "        print(f\"A diferença nas médias de {col} entre os grupos é estatisticamente significativa (p<0.05)\")\n",
    "    else:\n",
    "        print(f\"A diferença nas médias de {col} entre os grupos NÃO é estatisticamente significativa (p>=0.05)\")\n",
    "    \n",
    "    # Visualização\n",
    "    plt.figure(figsize=(10, 6))\n",
    "    sns.boxplot(x='Stroke', y=col, data=df)\n",
    "    plt.title(f'Distribuição de {col} por Stroke')\n",
    "    # plt.savefig(f'C:/Users/gabri/Downloads/Diabetes/{col}_by_stroke.png')\n",
    "    plt.show()\n",
    "    plt.close()"
   ]
  },
  {
   "cell_type": "markdown",
   "id": "3156834c",
   "metadata": {},
   "source": [
    "### Análise de Correlação"
   ]
  },
  {
   "cell_type": "code",
   "execution_count": null,
   "id": "6895b4a4",
   "metadata": {},
   "outputs": [
    {
     "name": "stdout",
     "output_type": "stream",
     "text": [
      "Correlação de cada variável com Stroke:\n",
      "Stroke                  1.000000\n",
      "HeartDiseaseorAttack    0.223394\n",
      "DiffWalk                0.192266\n",
      "GenHlth                 0.189447\n",
      "PhysHlth                0.164488\n",
      "HighBP                  0.129060\n",
      "Diabetes                0.125427\n",
      "Age                     0.123879\n",
      "HighChol                0.099786\n",
      "MentHlth                0.087303\n",
      "Smoker                  0.064658\n",
      "BMI                     0.022931\n",
      "CholCheck               0.022529\n",
      "Sex                     0.003822\n",
      "Fruits                 -0.008996\n",
      "HvyAlcoholConsump      -0.023395\n",
      "Veggies                -0.047601\n",
      "PhysActivity           -0.079985\n",
      "Name: Stroke, dtype: float64\n",
      "Matriz de correlação salva como 'correlation_matrix.png'\n"
     ]
    }
   ],
   "source": [
    "# Convertendo variáveis categóricas para numéricas para cálculo de correlação\n",
    "df_corr = df.copy()\n",
    "for col in categorical_cols:\n",
    "    if df_corr[col].nunique() <= 2:  # Para variáveis binárias\n",
    "        pass  # Já são 0 e 1, não precisamos converter\n",
    "    else:  # Para variáveis categóricas com mais de 2 categorias\n",
    "        le = LabelEncoder()\n",
    "        df_corr[col] = le.fit_transform(df_corr[col])\n",
    "\n",
    "# Calculando a matriz de correlação\n",
    "correlation_matrix = df_corr.corr()\n",
    "\n",
    "# Ordenando correlações com a variável alvo\n",
    "target_correlations = correlation_matrix['Stroke'].sort_values(ascending=False)\n",
    "print(\"Correlação de cada variável com Stroke:\")\n",
    "print(target_correlations)\n",
    "\n",
    "# Visualizando a matriz de correlação\n",
    "plt.figure(figsize=(14, 12))\n",
    "sns.heatmap(correlation_matrix, annot=True, cmap='coolwarm', fmt='.3f', linewidths=0.5)\n",
    "plt.title('Matriz de Correlação')\n",
    "# plt.savefig('C:/Users/gabri/Downloads/Diabetes/correlation_matrix.png')\n",
    "plt.show()\n",
    "plt.close()\n",
    "\n",
    "print(\"Matriz de correlação salva como 'correlation_matrix.png'\")"
   ]
  },
  {
   "cell_type": "markdown",
   "id": "c13452be",
   "metadata": {},
   "source": [
    "### Conclusão"
   ]
  },
  {
   "cell_type": "code",
   "execution_count": null,
   "id": "da418387",
   "metadata": {},
   "outputs": [
    {
     "name": "stdout",
     "output_type": "stream",
     "text": [
      "Variáveis com baixa correlação com Stroke (abaixo de 0.05):\n",
      "['BMI', 'CholCheck', 'Sex', 'Fruits', 'HvyAlcoholConsump', 'Veggies']\n",
      "\n",
      "Recomendações com base na análise:\n",
      "- Considere remover as variáveis com baixa correlação: BMI, CholCheck, Sex, Fruits, HvyAlcoholConsump, Veggies\n",
      "- O dataset está muito desbalanceado. Considere técnicas como:\n",
      "  * SMOTE (Synthetic Minority Over-sampling Technique)\n",
      "  * Random Under-sampling da classe majoritária\n",
      "  * Ajuste de pesos no modelo\n",
      "\n",
      "Variáveis mais importantes para predição de AVC (baseado na correlação):\n",
      "1. HeartDiseaseorAttack: 0.2234\n",
      "2. DiffWalk: 0.1923\n",
      "3. GenHlth: 0.1894\n",
      "4. PhysHlth: 0.1645\n",
      "5. HighBP: 0.1291\n"
     ]
    }
   ],
   "source": [
    "# Identificando variáveis com baixa correlação com a variável alvo\n",
    "low_corr_threshold = 0.05\n",
    "low_corr_vars = target_correlations[abs(target_correlations) < low_corr_threshold].index.tolist()\n",
    "if 'Stroke' in low_corr_vars:\n",
    "    low_corr_vars.remove('Stroke')\n",
    "\n",
    "print(\"Variáveis com baixa correlação com Stroke (abaixo de 0.05):\")\n",
    "print(low_corr_vars)\n",
    "\n",
    "# Identificando variáveis altamente correlacionadas entre si (multicolinearidade)\n",
    "high_corr_threshold = 0.7\n",
    "high_corr_pairs = []\n",
    "for i in range(len(correlation_matrix.columns)):\n",
    "    for j in range(i):\n",
    "        if abs(correlation_matrix.iloc[i, j]) > high_corr_threshold:\n",
    "            high_corr_pairs.append((correlation_matrix.columns[i], correlation_matrix.columns[j], correlation_matrix.iloc[i, j]))\n",
    "\n",
    "if high_corr_pairs:\n",
    "    print(\"\\nPares de variáveis altamente correlacionadas (potencial multicolinearidade):\")\n",
    "    for var1, var2, corr in high_corr_pairs:\n",
    "        print(f\"{var1} e {var2}: {corr:.2f}\")\n",
    "\n",
    "# Recomendações baseadas na análise\n",
    "print(\"\\nRecomendações com base na análise:\")\n",
    "if len(low_corr_vars) > 0:\n",
    "    print(f\"- Considere remover as variáveis com baixa correlação: {', '.join(low_corr_vars)}\")\n",
    "if high_corr_pairs:\n",
    "    print(\"- Avalie a possibilidade de remover uma variável de cada par altamente correlacionado\")\n",
    "\n",
    "if imbalance_ratio > 10:\n",
    "    print(\"- O dataset está muito desbalanceado. Considere técnicas como:\")\n",
    "    print(\"  * SMOTE (Synthetic Minority Over-sampling Technique)\")\n",
    "    print(\"  * Random Under-sampling da classe majoritária\")\n",
    "    print(\"  * Ajuste de pesos no modelo\")\n",
    "\n",
    "print(\"\\nVariáveis mais importantes para predição de AVC (baseado na correlação):\")\n",
    "top_features = target_correlations[target_correlations.index != 'Stroke'].abs().sort_values(ascending=False).head(5).index.tolist()\n",
    "for i, feature in enumerate(top_features):\n",
    "    corr_value = target_correlations[feature]\n",
    "    print(f\"{i+1}. {feature}: {corr_value:.4f}\")"
   ]
  },
  {
   "cell_type": "markdown",
   "id": "bc907a80",
   "metadata": {},
   "source": [
    "It can be seen that features like CholCheck and HvyAlcoholConsump are heavily unbalanced and may skew or introduce bias in the model thus they will not be considered while building the model."
   ]
  },
  {
   "cell_type": "code",
   "execution_count": null,
   "id": "d2dcaa25",
   "metadata": {},
   "outputs": [],
   "source": [
    "# #Building a heatmap using correlation\n",
    "# plt.figure(figsize=(15,10))\n",
    "# mask=np.triu(df.corr())\n",
    "# sns.heatmap(df.corr(),mask=mask,annot=True,cmap='Blues_r')\n",
    "# plt.show()"
   ]
  },
  {
   "cell_type": "markdown",
   "id": "1a7c60df",
   "metadata": {},
   "source": [
    "Now using this heatmap those features that might not contribute enough to the model depending on their correlation to the target(Stroke) column will be dropped from the dataset"
   ]
  },
  {
   "cell_type": "markdown",
   "id": "aeb07606",
   "metadata": {},
   "source": [
    "## SMOTE"
   ]
  },
  {
   "cell_type": "markdown",
   "id": "b66ff6d1",
   "metadata": {},
   "source": [
    "### Preparando dados"
   ]
  },
  {
   "cell_type": "code",
   "execution_count": null,
   "id": "99b18997",
   "metadata": {},
   "outputs": [],
   "source": [
    "# Verificando a distribuição original da variável alvo\n",
    "print(\"\\nDistribuição original da variável Stroke:\")\n",
    "print(df['Stroke'].value_counts())\n",
    "print(f\"Percentual: {df['Stroke'].value_counts(normalize=True) * 100}\")\n",
    "\n",
    "# Separando features e variável alvo\n",
    "X = df.drop('Stroke', axis=1)\n",
    "y = df['Stroke']\n",
    "\n",
    "# Identificando tipos de colunas para pré-processamento\n",
    "categorical_cols = ['Sex', 'HighChol', 'CholCheck', 'Smoker', 'HeartDiseaseorAttack',\n",
    "                    'PhysActivity', 'Fruits', 'Veggies', 'HvyAlcoholConsump',\n",
    "                    'GenHlth', 'DiffWalk', 'HighBP', 'Diabetes']\n",
    "numerical_cols = ['Age', 'BMI', 'MentHlth', 'PhysHlth']\n",
    "\n",
    "# Verificando a presença de todas as colunas no dataframe\n",
    "for col in categorical_cols + numerical_cols:\n",
    "    if col not in X.columns:\n",
    "        print(f\"Aviso: Coluna {col} não encontrada no dataframe\")\n",
    "\n",
    "# Dividindo os dados em conjuntos de treino e teste (antes do SMOTE)\n",
    "X_train, X_test, y_train, y_test = train_test_split(\n",
    "    X, y, test_size=0.25, random_state=42, stratify=y\n",
    ")\n",
    "\n",
    "print(f\"\\nConjunto de treinamento: {X_train.shape[0]} amostras\")\n",
    "print(f\"Conjunto de teste: {X_test.shape[0]} amostras\")"
   ]
  },
  {
   "cell_type": "markdown",
   "id": "ffd13a7a",
   "metadata": {},
   "source": [
    "### Aplicando SMOTE"
   ]
  },
  {
   "cell_type": "code",
   "execution_count": null,
   "id": "3c7925d3",
   "metadata": {},
   "outputs": [],
   "source": [
    "# Definindo o pré-processador para manipular variáveis categóricas e numéricas\n",
    "preprocessor = ColumnTransformer(\n",
    "    transformers=[\n",
    "        ('num', StandardScaler(), numerical_cols),\n",
    "        ('cat', OneHotEncoder(drop='first', sparse_output=False), categorical_cols)\n",
    "    ]\n",
    ")\n",
    "\n",
    "# Aplicando o pré-processamento aos dados de treino\n",
    "X_train_preprocessed = preprocessor.fit_transform(X_train)\n",
    "\n",
    "# Aplicando SMOTE para balancear as classes\n",
    "smote = SMOTE(random_state=42)\n",
    "X_train_smote, y_train_smote = smote.fit_resample(X_train_preprocessed, y_train)\n",
    "\n",
    "print(\"\\nDistribuição após aplicação do SMOTE:\")\n",
    "unique, counts = np.unique(y_train_smote, return_counts=True)\n",
    "print(dict(zip(unique, counts)))\n",
    "print(f\"Percentual: {np.bincount(y_train_smote) / len(y_train_smote) * 100}\")"
   ]
  },
  {
   "cell_type": "markdown",
   "id": "75e799b5",
   "metadata": {},
   "source": [
    "### Visualização"
   ]
  },
  {
   "cell_type": "code",
   "execution_count": null,
   "id": "078cfa7d",
   "metadata": {},
   "outputs": [],
   "source": [
    "# Visualizando a distribuição das classes antes e depois do SMOTE\n",
    "plt.figure(figsize=(12, 5))\n",
    "\n",
    "plt.subplot(1, 2, 1)\n",
    "sns.countplot(x=y_train)\n",
    "plt.title('Distribuição Original (Treino)')\n",
    "plt.xlabel('Stroke')\n",
    "plt.ylabel('Contagem')\n",
    "\n",
    "plt.subplot(1, 2, 2)\n",
    "sns.countplot(x=y_train_smote)\n",
    "plt.title('Distribuição Após SMOTE (Treino)')\n",
    "plt.xlabel('Stroke')\n",
    "plt.ylabel('Contagem')\n",
    "\n",
    "plt.tight_layout()\n",
    "# plt.savefig('smote_distribution_comparison.png')\n",
    "# print(\"\\nGráfico de comparação salvo como 'smote_distribution_comparison.png'\")\n",
    "plt.show()\n",
    "plt.close()\n",
    "\n"
   ]
  },
  {
   "cell_type": "markdown",
   "id": "049799ad",
   "metadata": {},
   "source": [
    "### Função para treinar e avaliar modelo"
   ]
  },
  {
   "cell_type": "code",
   "execution_count": null,
   "id": "6c31b15d",
   "metadata": {},
   "outputs": [],
   "source": [
    "def train_and_evaluate_model(X_train, y_train, X_test, y_test, model_name=\"Random Forest\"):\n",
    "    \"\"\"\n",
    "    Treina um modelo com os dados fornecidos e avalia seu desempenho\n",
    "    \"\"\"\n",
    "    # Usar Random Forest como exemplo de classificador\n",
    "    model = RandomForestClassifier(random_state=42)\n",
    "    \n",
    "    # Treinar o modelo\n",
    "    model.fit(X_train, y_train)\n",
    "    \n",
    "    # Fazer previsões\n",
    "    y_pred = model.predict(X_test)\n",
    "    y_pred_prob = model.predict_proba(X_test)[:, 1]\n",
    "    \n",
    "    # Avaliar o modelo\n",
    "    print(f\"\\n===== Avaliação do Modelo ({model_name}) =====\")\n",
    "    print(\"\\nMatriz de Confusão:\")\n",
    "    cm = confusion_matrix(y_test, y_pred)\n",
    "    print(cm)\n",
    "    \n",
    "    # Calculando métricas adicionais da matriz de confusão\n",
    "    tn, fp, fn, tp = cm.ravel()\n",
    "    sensitivity = tp / (tp + fn) if (tp + fn) > 0 else 0\n",
    "    specificity = tn / (tn + fp) if (tn + fp) > 0 else 0\n",
    "    \n",
    "    print(f\"\\nSensibilidade (Recall): {sensitivity:.4f}\")\n",
    "    print(f\"Especificidade: {specificity:.4f}\")\n",
    "    \n",
    "    print(\"\\nRelatório de Classificação:\")\n",
    "    print(classification_report(y_test, y_pred))\n",
    "    \n",
    "    # Curva ROC\n",
    "    fpr, tpr, _ = roc_curve(y_test, y_pred_prob)\n",
    "    roc_auc = auc(fpr, tpr)\n",
    "    \n",
    "    plt.figure(figsize=(8, 6))\n",
    "    plt.plot(fpr, tpr, color='darkorange', lw=2, label=f'ROC curve (area = {roc_auc:.2f})')\n",
    "    plt.plot([0, 1], [0, 1], color='navy', lw=2, linestyle='--')\n",
    "    plt.xlim([0.0, 1.0])\n",
    "    plt.ylim([0.0, 1.05])\n",
    "    plt.xlabel('Taxa de Falsos Positivos')\n",
    "    plt.ylabel('Taxa de Verdadeiros Positivos')\n",
    "    plt.title(f'Curva ROC - {model_name}')\n",
    "    plt.legend(loc=\"lower right\")\n",
    "    # plt.savefig(f'roc_curve_{model_name.replace(\" \", \"_\").lower()}.png')\n",
    "    # print(f\"Curva ROC salva como 'roc_curve_{model_name.replace(' ', '_').lower()}.png'\")\n",
    "    plt.show()\n",
    "    plt.close()\n",
    "    \n",
    "    \n",
    "    \n",
    "    return model, y_pred, y_pred_prob"
   ]
  },
  {
   "cell_type": "markdown",
   "id": "b8a1db6c",
   "metadata": {},
   "source": [
    "### Comparar modelos com e sem SMOTE"
   ]
  },
  {
   "cell_type": "code",
   "execution_count": null,
   "id": "625a3129",
   "metadata": {},
   "outputs": [],
   "source": [
    "# Pré-processar dados de teste para avaliação\n",
    "X_test_preprocessed = preprocessor.transform(X_test)\n",
    "\n",
    "# Treinar e avaliar modelo sem SMOTE\n",
    "print(\"\\n\" + \"=\"*80)\n",
    "print(\"AVALIAÇÃO DO MODELO SEM SMOTE\")\n",
    "print(\"=\"*80)\n",
    "model_without_smote, y_pred_without, y_prob_without = train_and_evaluate_model(\n",
    "    X_train_preprocessed, y_train, X_test_preprocessed, y_test, \"Sem SMOTE\"\n",
    ")\n",
    "\n",
    "# Treinar e avaliar modelo com SMOTE\n",
    "print(\"\\n\" + \"=\"*80)\n",
    "print(\"AVALIAÇÃO DO MODELO COM SMOTE\")\n",
    "print(\"=\"*80)\n",
    "model_with_smote, y_pred_with, y_prob_with = train_and_evaluate_model(\n",
    "    X_train_smote, y_train_smote, X_test_preprocessed, y_test, \"Com SMOTE\"\n",
    ")"
   ]
  },
  {
   "cell_type": "markdown",
   "id": "f1355123",
   "metadata": {},
   "source": [
    "### Visualização dos resultados"
   ]
  },
  {
   "cell_type": "code",
   "execution_count": null,
   "id": "dabb5247",
   "metadata": {},
   "outputs": [],
   "source": [
    "plt.figure(figsize=(10, 8))\n",
    "\n",
    "# Curva ROC para modelo sem SMOTE\n",
    "fpr_without, tpr_without, _ = roc_curve(y_test, y_prob_without)\n",
    "roc_auc_without = auc(fpr_without, tpr_without)\n",
    "plt.plot(fpr_without, tpr_without, color='blue', lw=2, \n",
    "         label=f'Sem SMOTE (AUC = {roc_auc_without:.2f})')\n",
    "\n",
    "# Curva ROC para modelo com SMOTE\n",
    "fpr_with, tpr_with, _ = roc_curve(y_test, y_prob_with)\n",
    "roc_auc_with = auc(fpr_with, tpr_with)\n",
    "plt.plot(fpr_with, tpr_with, color='red', lw=2, \n",
    "         label=f'Com SMOTE (AUC = {roc_auc_with:.2f})')\n",
    "\n",
    "# Diagonal de referência\n",
    "plt.plot([0, 1], [0, 1], color='navy', lw=1, linestyle='--')\n",
    "\n",
    "plt.xlim([0.0, 1.0])\n",
    "plt.ylim([0.0, 1.05])\n",
    "plt.xlabel('Taxa de Falsos Positivos')\n",
    "plt.ylabel('Taxa de Verdadeiros Positivos')\n",
    "plt.title('Comparação das Curvas ROC')\n",
    "plt.legend(loc=\"lower right\")\n",
    "plt.savefig('roc_curve_comparison.png')\n",
    "print(\"\\nComparação das curvas ROC salva como 'roc_curve_comparison.png'\")\n",
    "plt.show()\n",
    "plt.close()\n",
    "\n"
   ]
  },
  {
   "cell_type": "markdown",
   "id": "a9092d2f",
   "metadata": {},
   "source": [
    "### Salvamento dos dados"
   ]
  },
  {
   "cell_type": "code",
   "execution_count": null,
   "id": "16c03ea5",
   "metadata": {},
   "outputs": [],
   "source": [
    "# Opção 1: Salvar os dados após SMOTE (requer reconstrução do dataframe)\n",
    "# Isso pode ser complexo devido à transformação OneHotEncoder, então vamos usar uma abordagem alternativa\n",
    "\n",
    "# Opção 2: Aplicar SMOTE diretamente nos dados originais para preservar a estrutura\n",
    "# Importante: Essa é uma alternativa simplificada para preservar a estrutura do dataframe\n",
    "smote_direct = SMOTE(random_state=42)\n",
    "X_resampled, y_resampled = smote_direct.fit_resample(X_train, y_train)\n",
    "\n",
    "# Criar um novo dataframe com os dados balanceados\n",
    "df_balanced = pd.concat([pd.DataFrame(X_resampled, columns=X.columns), \n",
    "                         pd.Series(y_resampled, name='Stroke')], axis=1)\n",
    "\n",
    "# Verificando a distribuição final\n",
    "print(\"\\nDistribuição final da variável Stroke no DataFrame balanceado:\")\n",
    "print(df_balanced['Stroke'].value_counts())\n",
    "print(f\"Percentual: {df_balanced['Stroke'].value_counts(normalize=True) * 100}\")\n",
    "\n",
    "# Salvando o dataframe balanceado\n",
    "df_balanced.to_csv('dados_avc_balanceados.csv', index=False)\n",
    "print(\"\\nDataset balanceado salvo como 'dados_avc_balanceados.csv'\")"
   ]
  },
  {
   "cell_type": "markdown",
   "id": "20c5930b",
   "metadata": {},
   "source": [
    "O SMOTE foi aplicado com sucesso para equilibrar as classes no conjunto de dados.\n",
    "Principais pontos:\n",
    "\n",
    "1. A distribuição original era desbalanceada, com poucos casos positivos de AVC.\n",
    "2. Após o SMOTE, as classes estão equilibradas no conjunto de treinamento.\n",
    "3. O modelo treinado com dados balanceados geralmente apresenta melhor sensibilidade \n",
    "   (capacidade de detectar casos positivos de AVC), o que é crucial em aplicações médicas.\n",
    "4. O dataset balanceado foi salvo e pode ser usado para treinamento de diferentes modelos.\n",
    "\n",
    "Recomendações:\n",
    "- Compare diferentes algoritmos de classificação usando os dados balanceados.\n",
    "- Considere ajustar os hiperparâmetros do modelo para melhorar ainda mais o desempenho.\n",
    "- Avalie o modelo com métricas apropriadas para problemas desbalanceados (F1-score, AUC-ROC).\n",
    "- Para aplicações em saúde, priorize a sensibilidade (recall) para não perder casos de AVC."
   ]
  },
  {
   "cell_type": "markdown",
   "id": "cf205864",
   "metadata": {},
   "source": [
    "# Antigo código"
   ]
  },
  {
   "cell_type": "markdown",
   "id": "29820831",
   "metadata": {},
   "source": [
    "## Feature Engineering"
   ]
  },
  {
   "cell_type": "code",
   "execution_count": null,
   "id": "f69f7430",
   "metadata": {},
   "outputs": [
    {
     "data": {
      "text/html": [
       "<div>\n",
       "<style scoped>\n",
       "    .dataframe tbody tr th:only-of-type {\n",
       "        vertical-align: middle;\n",
       "    }\n",
       "\n",
       "    .dataframe tbody tr th {\n",
       "        vertical-align: top;\n",
       "    }\n",
       "\n",
       "    .dataframe thead th {\n",
       "        text-align: right;\n",
       "    }\n",
       "</style>\n",
       "<table border=\"1\" class=\"dataframe\">\n",
       "  <thead>\n",
       "    <tr style=\"text-align: right;\">\n",
       "      <th></th>\n",
       "      <th>Age</th>\n",
       "      <th>HighChol</th>\n",
       "      <th>Smoker</th>\n",
       "      <th>HeartDiseaseorAttack</th>\n",
       "      <th>PhysActivity</th>\n",
       "      <th>GenHlth</th>\n",
       "      <th>MentHlth</th>\n",
       "      <th>PhysHlth</th>\n",
       "      <th>DiffWalk</th>\n",
       "      <th>Stroke</th>\n",
       "      <th>HighBP</th>\n",
       "      <th>Diabetes</th>\n",
       "    </tr>\n",
       "  </thead>\n",
       "  <tbody>\n",
       "    <tr>\n",
       "      <th>0</th>\n",
       "      <td>4.0</td>\n",
       "      <td>0.0</td>\n",
       "      <td>0.0</td>\n",
       "      <td>0.0</td>\n",
       "      <td>1.0</td>\n",
       "      <td>3.0</td>\n",
       "      <td>5.0</td>\n",
       "      <td>30.0</td>\n",
       "      <td>0.0</td>\n",
       "      <td>0.0</td>\n",
       "      <td>1.0</td>\n",
       "      <td>0.0</td>\n",
       "    </tr>\n",
       "    <tr>\n",
       "      <th>1</th>\n",
       "      <td>12.0</td>\n",
       "      <td>1.0</td>\n",
       "      <td>1.0</td>\n",
       "      <td>0.0</td>\n",
       "      <td>0.0</td>\n",
       "      <td>3.0</td>\n",
       "      <td>0.0</td>\n",
       "      <td>0.0</td>\n",
       "      <td>0.0</td>\n",
       "      <td>1.0</td>\n",
       "      <td>1.0</td>\n",
       "      <td>0.0</td>\n",
       "    </tr>\n",
       "    <tr>\n",
       "      <th>2</th>\n",
       "      <td>13.0</td>\n",
       "      <td>0.0</td>\n",
       "      <td>0.0</td>\n",
       "      <td>0.0</td>\n",
       "      <td>1.0</td>\n",
       "      <td>1.0</td>\n",
       "      <td>0.0</td>\n",
       "      <td>10.0</td>\n",
       "      <td>0.0</td>\n",
       "      <td>0.0</td>\n",
       "      <td>0.0</td>\n",
       "      <td>0.0</td>\n",
       "    </tr>\n",
       "    <tr>\n",
       "      <th>3</th>\n",
       "      <td>11.0</td>\n",
       "      <td>1.0</td>\n",
       "      <td>1.0</td>\n",
       "      <td>0.0</td>\n",
       "      <td>1.0</td>\n",
       "      <td>3.0</td>\n",
       "      <td>0.0</td>\n",
       "      <td>3.0</td>\n",
       "      <td>0.0</td>\n",
       "      <td>0.0</td>\n",
       "      <td>1.0</td>\n",
       "      <td>0.0</td>\n",
       "    </tr>\n",
       "    <tr>\n",
       "      <th>4</th>\n",
       "      <td>8.0</td>\n",
       "      <td>0.0</td>\n",
       "      <td>1.0</td>\n",
       "      <td>0.0</td>\n",
       "      <td>1.0</td>\n",
       "      <td>2.0</td>\n",
       "      <td>0.0</td>\n",
       "      <td>0.0</td>\n",
       "      <td>0.0</td>\n",
       "      <td>0.0</td>\n",
       "      <td>0.0</td>\n",
       "      <td>0.0</td>\n",
       "    </tr>\n",
       "  </tbody>\n",
       "</table>\n",
       "</div>"
      ],
      "text/plain": [
       "    Age  HighChol  Smoker  HeartDiseaseorAttack  PhysActivity  GenHlth  \\\n",
       "0   4.0       0.0     0.0                   0.0           1.0      3.0   \n",
       "1  12.0       1.0     1.0                   0.0           0.0      3.0   \n",
       "2  13.0       0.0     0.0                   0.0           1.0      1.0   \n",
       "3  11.0       1.0     1.0                   0.0           1.0      3.0   \n",
       "4   8.0       0.0     1.0                   0.0           1.0      2.0   \n",
       "\n",
       "   MentHlth  PhysHlth  DiffWalk  Stroke  HighBP  Diabetes  \n",
       "0       5.0      30.0       0.0     0.0     1.0       0.0  \n",
       "1       0.0       0.0       0.0     1.0     1.0       0.0  \n",
       "2       0.0      10.0       0.0     0.0     0.0       0.0  \n",
       "3       0.0       3.0       0.0     0.0     1.0       0.0  \n",
       "4       0.0       0.0       0.0     0.0     0.0       0.0  "
      ]
     },
     "execution_count": 85,
     "metadata": {},
     "output_type": "execute_result"
    }
   ],
   "source": [
    "#dropping features that are not required\n",
    "# data=df.drop(['Sex','CholCheck','Smoker','Fruits','Veggies','HvyAlcoholConsump','MentHlth'],axis=1)\n",
    "data = df.drop(['BMI', 'CholCheck', 'Sex', 'Fruits', 'HvyAlcoholConsump', 'Veggies'], axis=1)\n",
    "data.head()"
   ]
  },
  {
   "cell_type": "code",
   "execution_count": 86,
   "id": "0c6dc3f2",
   "metadata": {},
   "outputs": [],
   "source": [
    "#splitting the data into input data features and target \n",
    "X=data.drop('Stroke',axis=1)\n",
    "y=data['Stroke']"
   ]
  },
  {
   "cell_type": "markdown",
   "id": "a27a810b",
   "metadata": {},
   "source": [
    "## Train-Test-Split and Scaling"
   ]
  },
  {
   "cell_type": "code",
   "execution_count": 87,
   "id": "37aa9762",
   "metadata": {},
   "outputs": [],
   "source": [
    "X_train,X_test,y_train,y_test=train_test_split(X,y,test_size=0.3,random_state=105,stratify=y)"
   ]
  },
  {
   "cell_type": "code",
   "execution_count": 88,
   "id": "d6705999",
   "metadata": {},
   "outputs": [
    {
     "name": "stdout",
     "output_type": "stream",
     "text": [
      "(49484, 11)\n",
      "(21208, 11)\n"
     ]
    }
   ],
   "source": [
    "print(X_train.shape)\n",
    "print(X_test.shape)"
   ]
  },
  {
   "cell_type": "code",
   "execution_count": 89,
   "id": "989461e3",
   "metadata": {},
   "outputs": [],
   "source": [
    "#scaling the data so that comparatively larger values do not make the model biased\n",
    "scaler=StandardScaler()\n",
    "X_train_scaled=scaler.fit_transform(X_train)\n",
    "X_test_scaled=scaler.transform(X_test)"
   ]
  },
  {
   "cell_type": "markdown",
   "id": "762e3bc2",
   "metadata": {},
   "source": [
    "## Defining Generic Model"
   ]
  },
  {
   "cell_type": "code",
   "execution_count": 90,
   "id": "e080e3ed",
   "metadata": {},
   "outputs": [],
   "source": [
    "accuracy_model=pd.DataFrame(columns=['Model','Accuracy'])"
   ]
  },
  {
   "cell_type": "code",
   "execution_count": 91,
   "id": "faf96093",
   "metadata": {},
   "outputs": [],
   "source": [
    "#Defining a function to standardize the model testing process\n",
    "def model_train_test(model):\n",
    "    model.fit(X_train_scaled,y_train)\n",
    "    y_pred=model.predict(X_test_scaled)\n",
    "    print(classification_report(y_test,y_pred, zero_division=0))\n",
    "    ConfusionMatrixDisplay.from_estimator(model,X_test_scaled,y_test)"
   ]
  },
  {
   "cell_type": "markdown",
   "id": "d5a89aa9",
   "metadata": {},
   "source": [
    "## Testing Different Models"
   ]
  },
  {
   "cell_type": "markdown",
   "id": "73ab776b",
   "metadata": {},
   "source": [
    "### LOGISTIC REGRESSION"
   ]
  },
  {
   "cell_type": "code",
   "execution_count": 92,
   "id": "4a87c5a5",
   "metadata": {},
   "outputs": [
    {
     "name": "stderr",
     "output_type": "stream",
     "text": [
      "c:\\Users\\gabri\\anaconda3\\Lib\\site-packages\\sklearn\\model_selection\\_validation.py:425: FitFailedWarning: \n",
      "70 fits failed out of a total of 140.\n",
      "The score on these train-test partitions for these parameters will be set to nan.\n",
      "If these failures are not expected, you can try to debug them by setting error_score='raise'.\n",
      "\n",
      "Below are more details about the failures:\n",
      "--------------------------------------------------------------------------------\n",
      "70 fits failed with the following error:\n",
      "Traceback (most recent call last):\n",
      "  File \"c:\\Users\\gabri\\anaconda3\\Lib\\site-packages\\sklearn\\model_selection\\_validation.py\", line 732, in _fit_and_score\n",
      "    estimator.fit(X_train, y_train, **fit_params)\n",
      "  File \"c:\\Users\\gabri\\anaconda3\\Lib\\site-packages\\sklearn\\base.py\", line 1151, in wrapper\n",
      "    return fit_method(estimator, *args, **kwargs)\n",
      "           ^^^^^^^^^^^^^^^^^^^^^^^^^^^^^^^^^^^^^^\n",
      "  File \"c:\\Users\\gabri\\anaconda3\\Lib\\site-packages\\sklearn\\linear_model\\_logistic.py\", line 1168, in fit\n",
      "    solver = _check_solver(self.solver, self.penalty, self.dual)\n",
      "             ^^^^^^^^^^^^^^^^^^^^^^^^^^^^^^^^^^^^^^^^^^^^^^^^^^^\n",
      "  File \"c:\\Users\\gabri\\anaconda3\\Lib\\site-packages\\sklearn\\linear_model\\_logistic.py\", line 56, in _check_solver\n",
      "    raise ValueError(\n",
      "ValueError: Solver lbfgs supports only 'l2' or 'none' penalties, got l1 penalty.\n",
      "\n",
      "  warnings.warn(some_fits_failed_message, FitFailedWarning)\n",
      "c:\\Users\\gabri\\anaconda3\\Lib\\site-packages\\sklearn\\model_selection\\_search.py:976: UserWarning: One or more of the test scores are non-finite: [       nan 0.9378385         nan 0.9378385         nan 0.93777787\n",
      "        nan 0.93777787        nan 0.93777787        nan 0.93777787\n",
      "        nan 0.93777787]\n",
      "  warnings.warn(\n"
     ]
    },
    {
     "name": "stdout",
     "output_type": "stream",
     "text": [
      "              precision    recall  f1-score   support\n",
      "\n",
      "         0.0       0.94      1.00      0.97     19889\n",
      "         1.0       0.00      0.00      0.00      1319\n",
      "\n",
      "    accuracy                           0.94     21208\n",
      "   macro avg       0.47      0.50      0.48     21208\n",
      "weighted avg       0.88      0.94      0.91     21208\n",
      "\n"
     ]
    },
    {
     "data": {
      "image/png": "[encoded data removed]",
      "text/plain": [
       "<Figure size 640x480 with 2 Axes>"
      ]
     },
     "metadata": {},
     "output_type": "display_data"
    }
   ],
   "source": [
    "grid={\"C\":np.logspace(-3,3,7), \"penalty\":[\"l1\",\"l2\"]}\n",
    "logreg=LogisticRegression()\n",
    "logreg_cv=GridSearchCV(logreg,grid,cv=10)\n",
    "model_train_test(logreg_cv)"
   ]
  },
  {
   "cell_type": "markdown",
   "id": "77420c32",
   "metadata": {},
   "source": [
    "### GAUSSIAN NAIVE BAYES"
   ]
  },
  {
   "cell_type": "code",
   "execution_count": 93,
   "id": "95698a86",
   "metadata": {},
   "outputs": [
    {
     "name": "stdout",
     "output_type": "stream",
     "text": [
      "              precision    recall  f1-score   support\n",
      "\n",
      "         0.0       0.96      0.87      0.91     19889\n",
      "         1.0       0.20      0.49      0.28      1319\n",
      "\n",
      "    accuracy                           0.84     21208\n",
      "   macro avg       0.58      0.68      0.60     21208\n",
      "weighted avg       0.91      0.84      0.87     21208\n",
      "\n"
     ]
    },
    {
     "data": {
      "image/png": "[encoded data removed]",
      "text/plain": [
       "<Figure size 640x480 with 2 Axes>"
      ]
     },
     "metadata": {},
     "output_type": "display_data"
    }
   ],
   "source": [
    "gnb=GaussianNB()\n",
    "model_train_test(gnb)"
   ]
  },
  {
   "cell_type": "markdown",
   "id": "2523f8a7",
   "metadata": {},
   "source": [
    "### BERNOULLI NAIVE BAYES"
   ]
  },
  {
   "cell_type": "code",
   "execution_count": 94,
   "id": "798f72a3",
   "metadata": {},
   "outputs": [
    {
     "name": "stdout",
     "output_type": "stream",
     "text": [
      "              precision    recall  f1-score   support\n",
      "\n",
      "         0.0       0.95      0.92      0.94     19889\n",
      "         1.0       0.22      0.34      0.27      1319\n",
      "\n",
      "    accuracy                           0.88     21208\n",
      "   macro avg       0.59      0.63      0.60     21208\n",
      "weighted avg       0.91      0.88      0.90     21208\n",
      "\n"
     ]
    },
    {
     "data": {
      "image/png": "[encoded data removed]",
      "text/plain": [
       "<Figure size 640x480 with 2 Axes>"
      ]
     },
     "metadata": {},
     "output_type": "display_data"
    }
   ],
   "source": [
    "bnb=BernoulliNB()\n",
    "model_train_test(bnb)"
   ]
  },
  {
   "cell_type": "markdown",
   "id": "619813bc",
   "metadata": {},
   "source": [
    "### K-NEAREST NEIGHBOURS"
   ]
  },
  {
   "cell_type": "code",
   "execution_count": 95,
   "id": "9877dad5",
   "metadata": {},
   "outputs": [
    {
     "name": "stdout",
     "output_type": "stream",
     "text": [
      "Fitting 10 folds for each of 19 candidates, totalling 190 fits\n"
     ]
    }
   ],
   "source": [
    "knn = KNeighborsClassifier()\n",
    "\n",
    "k_range = list(range(1, 20))\n",
    "param_grid = dict(n_neighbors=k_range)\n",
    "  \n",
    "grid = GridSearchCV(knn, param_grid, cv=10, scoring='accuracy', return_train_score=False,verbose=1)\n",
    "grid_search=grid.fit(X_train_scaled, y_train)"
   ]
  },
  {
   "cell_type": "code",
   "execution_count": 96,
   "id": "08425f3c",
   "metadata": {},
   "outputs": [
    {
     "name": "stdout",
     "output_type": "stream",
     "text": [
      "{'n_neighbors': 16}\n",
      "Accuracy for our training dataset with tuning is : 93.76%\n"
     ]
    }
   ],
   "source": [
    "print(grid_search.best_params_)\n",
    "accuracy = grid_search.best_score_ *100\n",
    "print(\"Accuracy for our training dataset with tuning is : {:.2f}%\".format(accuracy) )"
   ]
  },
  {
   "cell_type": "code",
   "execution_count": 97,
   "id": "0764e7c4",
   "metadata": {},
   "outputs": [
    {
     "name": "stdout",
     "output_type": "stream",
     "text": [
      "              precision    recall  f1-score   support\n",
      "\n",
      "         0.0       0.94      1.00      0.97     19889\n",
      "         1.0       0.31      0.01      0.01      1319\n",
      "\n",
      "    accuracy                           0.94     21208\n",
      "   macro avg       0.62      0.50      0.49     21208\n",
      "weighted avg       0.90      0.94      0.91     21208\n",
      "\n"
     ]
    },
    {
     "data": {
      "image/png": "[encoded data removed]",
      "text/plain": [
       "<Figure size 640x480 with 2 Axes>"
      ]
     },
     "metadata": {},
     "output_type": "display_data"
    }
   ],
   "source": [
    "model_train_test(KNeighborsClassifier(n_neighbors=18))"
   ]
  },
  {
   "cell_type": "markdown",
   "id": "8c73c2ac",
   "metadata": {},
   "source": [
    "### DECISION TREE"
   ]
  },
  {
   "cell_type": "code",
   "execution_count": 98,
   "id": "be6cdd37",
   "metadata": {},
   "outputs": [
    {
     "name": "stdout",
     "output_type": "stream",
     "text": [
      "Fitting 5 folds for each of 60 candidates, totalling 300 fits\n"
     ]
    },
    {
     "data": {
      "text/html": [
       "<style>#sk-container-id-8 {color: black;}#sk-container-id-8 pre{padding: 0;}#sk-container-id-8 div.sk-toggleable {background-color: white;}#sk-container-id-8 label.sk-toggleable__label {cursor: pointer;display: block;width: 100%;margin-bottom: 0;padding: 0.3em;box-sizing: border-box;text-align: center;}#sk-container-id-8 label.sk-toggleable__label-arrow:before {content: \"▸\";float: left;margin-right: 0.25em;color: #696969;}#sk-container-id-8 label.sk-toggleable__label-arrow:hover:before {color: black;}#sk-container-id-8 div.sk-estimator:hover label.sk-toggleable__label-arrow:before {color: black;}#sk-container-id-8 div.sk-toggleable__content {max-height: 0;max-width: 0;overflow: hidden;text-align: left;background-color: #f0f8ff;}#sk-container-id-8 div.sk-toggleable__content pre {margin: 0.2em;color: black;border-radius: 0.25em;background-color: #f0f8ff;}#sk-container-id-8 input.sk-toggleable__control:checked~div.sk-toggleable__content {max-height: 200px;max-width: 100%;overflow: auto;}#sk-container-id-8 input.sk-toggleable__control:checked~label.sk-toggleable__label-arrow:before {content: \"▾\";}#sk-container-id-8 div.sk-estimator input.sk-toggleable__control:checked~label.sk-toggleable__label {background-color: #d4ebff;}#sk-container-id-8 div.sk-label input.sk-toggleable__control:checked~label.sk-toggleable__label {background-color: #d4ebff;}#sk-container-id-8 input.sk-hidden--visually {border: 0;clip: rect(1px 1px 1px 1px);clip: rect(1px, 1px, 1px, 1px);height: 1px;margin: -1px;overflow: hidden;padding: 0;position: absolute;width: 1px;}#sk-container-id-8 div.sk-estimator {font-family: monospace;background-color: #f0f8ff;border: 1px dotted black;border-radius: 0.25em;box-sizing: border-box;margin-bottom: 0.5em;}#sk-container-id-8 div.sk-estimator:hover {background-color: #d4ebff;}#sk-container-id-8 div.sk-parallel-item::after {content: \"\";width: 100%;border-bottom: 1px solid gray;flex-grow: 1;}#sk-container-id-8 div.sk-label:hover label.sk-toggleable__label {background-color: #d4ebff;}#sk-container-id-8 div.sk-serial::before {content: \"\";position: absolute;border-left: 1px solid gray;box-sizing: border-box;top: 0;bottom: 0;left: 50%;z-index: 0;}#sk-container-id-8 div.sk-serial {display: flex;flex-direction: column;align-items: center;background-color: white;padding-right: 0.2em;padding-left: 0.2em;position: relative;}#sk-container-id-8 div.sk-item {position: relative;z-index: 1;}#sk-container-id-8 div.sk-parallel {display: flex;align-items: stretch;justify-content: center;background-color: white;position: relative;}#sk-container-id-8 div.sk-item::before, #sk-container-id-8 div.sk-parallel-item::before {content: \"\";position: absolute;border-left: 1px solid gray;box-sizing: border-box;top: 0;bottom: 0;left: 50%;z-index: -1;}#sk-container-id-8 div.sk-parallel-item {display: flex;flex-direction: column;z-index: 1;position: relative;background-color: white;}#sk-container-id-8 div.sk-parallel-item:first-child::after {align-self: flex-end;width: 50%;}#sk-container-id-8 div.sk-parallel-item:last-child::after {align-self: flex-start;width: 50%;}#sk-container-id-8 div.sk-parallel-item:only-child::after {width: 0;}#sk-container-id-8 div.sk-dashed-wrapped {border: 1px dashed gray;margin: 0 0.4em 0.5em 0.4em;box-sizing: border-box;padding-bottom: 0.4em;background-color: white;}#sk-container-id-8 div.sk-label label {font-family: monospace;font-weight: bold;display: inline-block;line-height: 1.2em;}#sk-container-id-8 div.sk-label-container {text-align: center;}#sk-container-id-8 div.sk-container {/* jupyter's `normalize.less` sets `[hidden] { display: none; }` but bootstrap.min.css set `[hidden] { display: none !important; }` so we also need the `!important` here to be able to override the default hidden behavior on the sphinx rendered scikit-learn.org. See: https://github.com/scikit-learn/scikit-learn/issues/21755 */display: inline-block !important;position: relative;}#sk-container-id-8 div.sk-text-repr-fallback {display: none;}</style><div id=\"sk-container-id-8\" class=\"sk-top-container\"><div class=\"sk-text-repr-fallback\"><pre>GridSearchCV(cv=5, error_score=&#x27;raise&#x27;, estimator=DecisionTreeClassifier(),\n",
       "             n_jobs=-1,\n",
       "             param_grid={&#x27;ccp_alpha&#x27;: [0.1, 0.01, 0.001],\n",
       "                         &#x27;criterion&#x27;: [&#x27;gini&#x27;, &#x27;entropy&#x27;],\n",
       "                         &#x27;max_depth&#x27;: [5, 6, 7, 8, 9],\n",
       "                         &#x27;max_features&#x27;: [&#x27;sqrt&#x27;, &#x27;log2&#x27;]},\n",
       "             verbose=True)</pre><b>In a Jupyter environment, please rerun this cell to show the HTML representation or trust the notebook. <br />On GitHub, the HTML representation is unable to render, please try loading this page with nbviewer.org.</b></div><div class=\"sk-container\" hidden><div class=\"sk-item sk-dashed-wrapped\"><div class=\"sk-label-container\"><div class=\"sk-label sk-toggleable\"><input class=\"sk-toggleable__control sk-hidden--visually\" id=\"sk-estimator-id-22\" type=\"checkbox\" ><label for=\"sk-estimator-id-22\" class=\"sk-toggleable__label sk-toggleable__label-arrow\">GridSearchCV</label><div class=\"sk-toggleable__content\"><pre>GridSearchCV(cv=5, error_score=&#x27;raise&#x27;, estimator=DecisionTreeClassifier(),\n",
       "             n_jobs=-1,\n",
       "             param_grid={&#x27;ccp_alpha&#x27;: [0.1, 0.01, 0.001],\n",
       "                         &#x27;criterion&#x27;: [&#x27;gini&#x27;, &#x27;entropy&#x27;],\n",
       "                         &#x27;max_depth&#x27;: [5, 6, 7, 8, 9],\n",
       "                         &#x27;max_features&#x27;: [&#x27;sqrt&#x27;, &#x27;log2&#x27;]},\n",
       "             verbose=True)</pre></div></div></div><div class=\"sk-parallel\"><div class=\"sk-parallel-item\"><div class=\"sk-item\"><div class=\"sk-label-container\"><div class=\"sk-label sk-toggleable\"><input class=\"sk-toggleable__control sk-hidden--visually\" id=\"sk-estimator-id-23\" type=\"checkbox\" ><label for=\"sk-estimator-id-23\" class=\"sk-toggleable__label sk-toggleable__label-arrow\">estimator: DecisionTreeClassifier</label><div class=\"sk-toggleable__content\"><pre>DecisionTreeClassifier()</pre></div></div></div><div class=\"sk-serial\"><div class=\"sk-item\"><div class=\"sk-estimator sk-toggleable\"><input class=\"sk-toggleable__control sk-hidden--visually\" id=\"sk-estimator-id-24\" type=\"checkbox\" ><label for=\"sk-estimator-id-24\" class=\"sk-toggleable__label sk-toggleable__label-arrow\">DecisionTreeClassifier</label><div class=\"sk-toggleable__content\"><pre>DecisionTreeClassifier()</pre></div></div></div></div></div></div></div></div></div></div>"
      ],
      "text/plain": [
       "GridSearchCV(cv=5, error_score='raise', estimator=DecisionTreeClassifier(),\n",
       "             n_jobs=-1,\n",
       "             param_grid={'ccp_alpha': [0.1, 0.01, 0.001],\n",
       "                         'criterion': ['gini', 'entropy'],\n",
       "                         'max_depth': [5, 6, 7, 8, 9],\n",
       "                         'max_features': ['sqrt', 'log2']},\n",
       "             verbose=True)"
      ]
     },
     "execution_count": 98,
     "metadata": {},
     "output_type": "execute_result"
    }
   ],
   "source": [
    "param_grid = {'max_features': ['sqrt', 'log2'],\n",
    "              'ccp_alpha': [0.1, .01, .001],\n",
    "              'max_depth' : [5, 6, 7, 8, 9],\n",
    "              'criterion' :['gini', 'entropy']\n",
    "             }\n",
    "tree_clas = DecisionTreeClassifier()\n",
    "grid_search = GridSearchCV(estimator=tree_clas, param_grid=param_grid, cv=5, verbose=True, error_score='raise', n_jobs=-1)\n",
    "grid_search.fit(X_train_scaled, y_train)"
   ]
  },
  {
   "cell_type": "code",
   "execution_count": 99,
   "id": "e334f9ed",
   "metadata": {},
   "outputs": [
    {
     "name": "stdout",
     "output_type": "stream",
     "text": [
      "{'ccp_alpha': 0.1, 'criterion': 'gini', 'max_depth': 5, 'max_features': 'sqrt'}\n",
      "Accuracy for our training dataset with tuning is : 93.78%\n"
     ]
    }
   ],
   "source": [
    "print(grid_search.best_params_)\n",
    "accuracy = grid_search.best_score_ *100\n",
    "print(\"Accuracy for our training dataset with tuning is : {:.2f}%\".format(accuracy) )"
   ]
  },
  {
   "cell_type": "code",
   "execution_count": 100,
   "id": "d7a951e6",
   "metadata": {},
   "outputs": [
    {
     "name": "stdout",
     "output_type": "stream",
     "text": [
      "              precision    recall  f1-score   support\n",
      "\n",
      "         0.0       0.94      1.00      0.97     19889\n",
      "         1.0       0.00      0.00      0.00      1319\n",
      "\n",
      "    accuracy                           0.94     21208\n",
      "   macro avg       0.47      0.50      0.48     21208\n",
      "weighted avg       0.88      0.94      0.91     21208\n",
      "\n"
     ]
    },
    {
     "data": {
      "image/png": "[encoded data removed]",
      "text/plain": [
       "<Figure size 640x480 with 2 Axes>"
      ]
     },
     "metadata": {},
     "output_type": "display_data"
    }
   ],
   "source": [
    "model_train_test(DecisionTreeClassifier(ccp_alpha=0.1,criterion='gini',max_depth=5, max_features='sqrt'))"
   ]
  },
  {
   "cell_type": "markdown",
   "id": "b12f3da6",
   "metadata": {},
   "source": [
    "### RANDOM FOREST"
   ]
  },
  {
   "cell_type": "code",
   "execution_count": 115,
   "id": "c8922d98",
   "metadata": {},
   "outputs": [
    {
     "name": "stdout",
     "output_type": "stream",
     "text": [
      "              precision    recall  f1-score   support\n",
      "\n",
      "         0.0       0.94      0.93      0.94     19889\n",
      "         1.0       0.13      0.16      0.14      1319\n",
      "\n",
      "    accuracy                           0.88     21208\n",
      "   macro avg       0.54      0.54      0.54     21208\n",
      "weighted avg       0.89      0.88      0.89     21208\n",
      "\n"
     ]
    },
    {
     "data": {
      "image/png": "[encoded data removed]",
      "text/plain": [
       "<Figure size 640x480 with 2 Axes>"
      ]
     },
     "metadata": {},
     "output_type": "display_data"
    }
   ],
   "source": [
    "model_train_test(RandomForestClassifier(class_weight='balanced', n_estimators=100, random_state=42))"
   ]
  },
  {
   "cell_type": "markdown",
   "id": "c7d49509",
   "metadata": {},
   "source": [
    "### SVC"
   ]
  },
  {
   "cell_type": "code",
   "execution_count": 116,
   "id": "fa41ecca",
   "metadata": {},
   "outputs": [
    {
     "name": "stdout",
     "output_type": "stream",
     "text": [
      "              precision    recall  f1-score   support\n",
      "\n",
      "         0.0       0.98      0.72      0.83     19889\n",
      "         1.0       0.15      0.73      0.24      1319\n",
      "\n",
      "    accuracy                           0.72     21208\n",
      "   macro avg       0.56      0.72      0.54     21208\n",
      "weighted avg       0.92      0.72      0.79     21208\n",
      "\n"
     ]
    },
    {
     "data": {
      "image/png": "[encoded data removed]",
      "text/plain": [
       "<Figure size 640x480 with 2 Axes>"
      ]
     },
     "metadata": {},
     "output_type": "display_data"
    }
   ],
   "source": [
    "model_train_test(SVC(class_weight='balanced', kernel='rbf', C=1.0, gamma='scale', random_state=42))"
   ]
  },
  {
   "cell_type": "markdown",
   "id": "1897b5ac",
   "metadata": {},
   "source": [
    "### PERCEPTRON"
   ]
  },
  {
   "cell_type": "code",
   "execution_count": 117,
   "id": "5d9e160e",
   "metadata": {},
   "outputs": [
    {
     "name": "stdout",
     "output_type": "stream",
     "text": [
      "              precision    recall  f1-score   support\n",
      "\n",
      "         0.0       0.94      0.49      0.64     19889\n",
      "         1.0       0.07      0.57      0.12      1319\n",
      "\n",
      "    accuracy                           0.49     21208\n",
      "   macro avg       0.51      0.53      0.38     21208\n",
      "weighted avg       0.89      0.49      0.61     21208\n",
      "\n"
     ]
    },
    {
     "data": {
      "image/png": "[encoded data removed]",
      "text/plain": [
       "<Figure size 640x480 with 2 Axes>"
      ]
     },
     "metadata": {},
     "output_type": "display_data"
    }
   ],
   "source": [
    "model_train_test(Perceptron(class_weight='balanced', random_state=42))"
   ]
  },
  {
   "cell_type": "code",
   "execution_count": 118,
   "id": "52a58bc4",
   "metadata": {},
   "outputs": [
    {
     "name": "stdout",
     "output_type": "stream",
     "text": [
      "              precision    recall  f1-score   support\n",
      "\n",
      "         0.0       0.94      1.00      0.97     19889\n",
      "         1.0       1.00      0.00      0.00      1319\n",
      "\n",
      "    accuracy                           0.94     21208\n",
      "   macro avg       0.97      0.50      0.48     21208\n",
      "weighted avg       0.94      0.94      0.91     21208\n",
      "\n"
     ]
    },
    {
     "data": {
      "image/png": "[encoded data removed]",
      "text/plain": [
       "<Figure size 640x480 with 2 Axes>"
      ]
     },
     "metadata": {},
     "output_type": "display_data"
    }
   ],
   "source": [
    "model_train_test(Perceptron(random_state=42))"
   ]
  }
 ],
 "metadata": {
  "kernelspec": {
   "display_name": "base",
   "language": "python",
   "name": "python3"
  },
  "language_info": {
   "codemirror_mode": {
    "name": "ipython",
    "version": 3
   },
   "file_extension": ".py",
   "mimetype": "text/x-python",
   "name": "python",
   "nbconvert_exporter": "python",
   "pygments_lexer": "ipython3",
   "version": "3.11.5"
  }
 },
 "nbformat": 4,
 "nbformat_minor": 5
}
